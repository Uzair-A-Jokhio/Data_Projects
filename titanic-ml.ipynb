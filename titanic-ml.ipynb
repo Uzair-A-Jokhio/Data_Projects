{
 "cells": [
  {
   "cell_type": "code",
   "execution_count": 1,
   "id": "f87d2615",
   "metadata": {
    "execution": {
     "iopub.execute_input": "2024-12-27T20:47:02.924488Z",
     "iopub.status.busy": "2024-12-27T20:47:02.924127Z",
     "iopub.status.idle": "2024-12-27T20:47:05.049953Z",
     "shell.execute_reply": "2024-12-27T20:47:05.048680Z"
    },
    "papermill": {
     "duration": 2.142795,
     "end_time": "2024-12-27T20:47:05.051828",
     "exception": false,
     "start_time": "2024-12-27T20:47:02.909033",
     "status": "completed"
    },
    "tags": []
   },
   "outputs": [],
   "source": [
    "import numpy as np\n",
    "import pandas as pd\n",
    "import matplotlib.pyplot as plt\n",
    "plt.style.use('ggplot')\n",
    "import seaborn as sns"
   ]
  },
  {
   "cell_type": "markdown",
   "id": "f4b71c2e",
   "metadata": {
    "papermill": {
     "duration": 0.012714,
     "end_time": "2024-12-27T20:47:05.077844",
     "exception": false,
     "start_time": "2024-12-27T20:47:05.065130",
     "status": "completed"
    },
    "tags": []
   },
   "source": []
  },
  {
   "cell_type": "code",
   "execution_count": 2,
   "id": "894a4be9",
   "metadata": {
    "execution": {
     "iopub.execute_input": "2024-12-27T20:47:05.107008Z",
     "iopub.status.busy": "2024-12-27T20:47:05.106478Z",
     "iopub.status.idle": "2024-12-27T20:47:05.132090Z",
     "shell.execute_reply": "2024-12-27T20:47:05.131023Z"
    },
    "papermill": {
     "duration": 0.043066,
     "end_time": "2024-12-27T20:47:05.134305",
     "exception": false,
     "start_time": "2024-12-27T20:47:05.091239",
     "status": "completed"
    },
    "tags": []
   },
   "outputs": [],
   "source": [
    "train_data = pd.read_csv('/kaggle/input/titanic/train.csv')\n",
    "test_data = pd.read_csv('/kaggle/input/titanic/test.csv')"
   ]
  },
  {
   "cell_type": "code",
   "execution_count": 3,
   "id": "111a8a72",
   "metadata": {
    "execution": {
     "iopub.execute_input": "2024-12-27T20:47:05.162709Z",
     "iopub.status.busy": "2024-12-27T20:47:05.162363Z",
     "iopub.status.idle": "2024-12-27T20:47:05.189521Z",
     "shell.execute_reply": "2024-12-27T20:47:05.188423Z"
    },
    "papermill": {
     "duration": 0.042835,
     "end_time": "2024-12-27T20:47:05.191329",
     "exception": false,
     "start_time": "2024-12-27T20:47:05.148494",
     "status": "completed"
    },
    "tags": []
   },
   "outputs": [
    {
     "data": {
      "text/html": [
       "<div>\n",
       "<style scoped>\n",
       "    .dataframe tbody tr th:only-of-type {\n",
       "        vertical-align: middle;\n",
       "    }\n",
       "\n",
       "    .dataframe tbody tr th {\n",
       "        vertical-align: top;\n",
       "    }\n",
       "\n",
       "    .dataframe thead th {\n",
       "        text-align: right;\n",
       "    }\n",
       "</style>\n",
       "<table border=\"1\" class=\"dataframe\">\n",
       "  <thead>\n",
       "    <tr style=\"text-align: right;\">\n",
       "      <th></th>\n",
       "      <th>PassengerId</th>\n",
       "      <th>Survived</th>\n",
       "      <th>Pclass</th>\n",
       "      <th>Name</th>\n",
       "      <th>Sex</th>\n",
       "      <th>Age</th>\n",
       "      <th>SibSp</th>\n",
       "      <th>Parch</th>\n",
       "      <th>Ticket</th>\n",
       "      <th>Fare</th>\n",
       "      <th>Cabin</th>\n",
       "      <th>Embarked</th>\n",
       "    </tr>\n",
       "  </thead>\n",
       "  <tbody>\n",
       "    <tr>\n",
       "      <th>0</th>\n",
       "      <td>1</td>\n",
       "      <td>0</td>\n",
       "      <td>3</td>\n",
       "      <td>Braund, Mr. Owen Harris</td>\n",
       "      <td>male</td>\n",
       "      <td>22.0</td>\n",
       "      <td>1</td>\n",
       "      <td>0</td>\n",
       "      <td>A/5 21171</td>\n",
       "      <td>7.2500</td>\n",
       "      <td>NaN</td>\n",
       "      <td>S</td>\n",
       "    </tr>\n",
       "    <tr>\n",
       "      <th>1</th>\n",
       "      <td>2</td>\n",
       "      <td>1</td>\n",
       "      <td>1</td>\n",
       "      <td>Cumings, Mrs. John Bradley (Florence Briggs Th...</td>\n",
       "      <td>female</td>\n",
       "      <td>38.0</td>\n",
       "      <td>1</td>\n",
       "      <td>0</td>\n",
       "      <td>PC 17599</td>\n",
       "      <td>71.2833</td>\n",
       "      <td>C85</td>\n",
       "      <td>C</td>\n",
       "    </tr>\n",
       "    <tr>\n",
       "      <th>2</th>\n",
       "      <td>3</td>\n",
       "      <td>1</td>\n",
       "      <td>3</td>\n",
       "      <td>Heikkinen, Miss. Laina</td>\n",
       "      <td>female</td>\n",
       "      <td>26.0</td>\n",
       "      <td>0</td>\n",
       "      <td>0</td>\n",
       "      <td>STON/O2. 3101282</td>\n",
       "      <td>7.9250</td>\n",
       "      <td>NaN</td>\n",
       "      <td>S</td>\n",
       "    </tr>\n",
       "    <tr>\n",
       "      <th>3</th>\n",
       "      <td>4</td>\n",
       "      <td>1</td>\n",
       "      <td>1</td>\n",
       "      <td>Futrelle, Mrs. Jacques Heath (Lily May Peel)</td>\n",
       "      <td>female</td>\n",
       "      <td>35.0</td>\n",
       "      <td>1</td>\n",
       "      <td>0</td>\n",
       "      <td>113803</td>\n",
       "      <td>53.1000</td>\n",
       "      <td>C123</td>\n",
       "      <td>S</td>\n",
       "    </tr>\n",
       "    <tr>\n",
       "      <th>4</th>\n",
       "      <td>5</td>\n",
       "      <td>0</td>\n",
       "      <td>3</td>\n",
       "      <td>Allen, Mr. William Henry</td>\n",
       "      <td>male</td>\n",
       "      <td>35.0</td>\n",
       "      <td>0</td>\n",
       "      <td>0</td>\n",
       "      <td>373450</td>\n",
       "      <td>8.0500</td>\n",
       "      <td>NaN</td>\n",
       "      <td>S</td>\n",
       "    </tr>\n",
       "    <tr>\n",
       "      <th>5</th>\n",
       "      <td>6</td>\n",
       "      <td>0</td>\n",
       "      <td>3</td>\n",
       "      <td>Moran, Mr. James</td>\n",
       "      <td>male</td>\n",
       "      <td>NaN</td>\n",
       "      <td>0</td>\n",
       "      <td>0</td>\n",
       "      <td>330877</td>\n",
       "      <td>8.4583</td>\n",
       "      <td>NaN</td>\n",
       "      <td>Q</td>\n",
       "    </tr>\n",
       "    <tr>\n",
       "      <th>6</th>\n",
       "      <td>7</td>\n",
       "      <td>0</td>\n",
       "      <td>1</td>\n",
       "      <td>McCarthy, Mr. Timothy J</td>\n",
       "      <td>male</td>\n",
       "      <td>54.0</td>\n",
       "      <td>0</td>\n",
       "      <td>0</td>\n",
       "      <td>17463</td>\n",
       "      <td>51.8625</td>\n",
       "      <td>E46</td>\n",
       "      <td>S</td>\n",
       "    </tr>\n",
       "    <tr>\n",
       "      <th>7</th>\n",
       "      <td>8</td>\n",
       "      <td>0</td>\n",
       "      <td>3</td>\n",
       "      <td>Palsson, Master. Gosta Leonard</td>\n",
       "      <td>male</td>\n",
       "      <td>2.0</td>\n",
       "      <td>3</td>\n",
       "      <td>1</td>\n",
       "      <td>349909</td>\n",
       "      <td>21.0750</td>\n",
       "      <td>NaN</td>\n",
       "      <td>S</td>\n",
       "    </tr>\n",
       "    <tr>\n",
       "      <th>8</th>\n",
       "      <td>9</td>\n",
       "      <td>1</td>\n",
       "      <td>3</td>\n",
       "      <td>Johnson, Mrs. Oscar W (Elisabeth Vilhelmina Berg)</td>\n",
       "      <td>female</td>\n",
       "      <td>27.0</td>\n",
       "      <td>0</td>\n",
       "      <td>2</td>\n",
       "      <td>347742</td>\n",
       "      <td>11.1333</td>\n",
       "      <td>NaN</td>\n",
       "      <td>S</td>\n",
       "    </tr>\n",
       "    <tr>\n",
       "      <th>9</th>\n",
       "      <td>10</td>\n",
       "      <td>1</td>\n",
       "      <td>2</td>\n",
       "      <td>Nasser, Mrs. Nicholas (Adele Achem)</td>\n",
       "      <td>female</td>\n",
       "      <td>14.0</td>\n",
       "      <td>1</td>\n",
       "      <td>0</td>\n",
       "      <td>237736</td>\n",
       "      <td>30.0708</td>\n",
       "      <td>NaN</td>\n",
       "      <td>C</td>\n",
       "    </tr>\n",
       "  </tbody>\n",
       "</table>\n",
       "</div>"
      ],
      "text/plain": [
       "   PassengerId  Survived  Pclass  \\\n",
       "0            1         0       3   \n",
       "1            2         1       1   \n",
       "2            3         1       3   \n",
       "3            4         1       1   \n",
       "4            5         0       3   \n",
       "5            6         0       3   \n",
       "6            7         0       1   \n",
       "7            8         0       3   \n",
       "8            9         1       3   \n",
       "9           10         1       2   \n",
       "\n",
       "                                                Name     Sex   Age  SibSp  \\\n",
       "0                            Braund, Mr. Owen Harris    male  22.0      1   \n",
       "1  Cumings, Mrs. John Bradley (Florence Briggs Th...  female  38.0      1   \n",
       "2                             Heikkinen, Miss. Laina  female  26.0      0   \n",
       "3       Futrelle, Mrs. Jacques Heath (Lily May Peel)  female  35.0      1   \n",
       "4                           Allen, Mr. William Henry    male  35.0      0   \n",
       "5                                   Moran, Mr. James    male   NaN      0   \n",
       "6                            McCarthy, Mr. Timothy J    male  54.0      0   \n",
       "7                     Palsson, Master. Gosta Leonard    male   2.0      3   \n",
       "8  Johnson, Mrs. Oscar W (Elisabeth Vilhelmina Berg)  female  27.0      0   \n",
       "9                Nasser, Mrs. Nicholas (Adele Achem)  female  14.0      1   \n",
       "\n",
       "   Parch            Ticket     Fare Cabin Embarked  \n",
       "0      0         A/5 21171   7.2500   NaN        S  \n",
       "1      0          PC 17599  71.2833   C85        C  \n",
       "2      0  STON/O2. 3101282   7.9250   NaN        S  \n",
       "3      0            113803  53.1000  C123        S  \n",
       "4      0            373450   8.0500   NaN        S  \n",
       "5      0            330877   8.4583   NaN        Q  \n",
       "6      0             17463  51.8625   E46        S  \n",
       "7      1            349909  21.0750   NaN        S  \n",
       "8      2            347742  11.1333   NaN        S  \n",
       "9      0            237736  30.0708   NaN        C  "
      ]
     },
     "execution_count": 3,
     "metadata": {},
     "output_type": "execute_result"
    }
   ],
   "source": [
    "data = train_data\n",
    "data.head(10)"
   ]
  },
  {
   "cell_type": "markdown",
   "id": "94905765",
   "metadata": {
    "papermill": {
     "duration": 0.012626,
     "end_time": "2024-12-27T20:47:05.217402",
     "exception": false,
     "start_time": "2024-12-27T20:47:05.204776",
     "status": "completed"
    },
    "tags": []
   },
   "source": [
    "# EDA"
   ]
  },
  {
   "cell_type": "code",
   "execution_count": 4,
   "id": "2683918c",
   "metadata": {
    "execution": {
     "iopub.execute_input": "2024-12-27T20:47:05.244956Z",
     "iopub.status.busy": "2024-12-27T20:47:05.244520Z",
     "iopub.status.idle": "2024-12-27T20:47:05.250838Z",
     "shell.execute_reply": "2024-12-27T20:47:05.249866Z"
    },
    "papermill": {
     "duration": 0.022145,
     "end_time": "2024-12-27T20:47:05.252477",
     "exception": false,
     "start_time": "2024-12-27T20:47:05.230332",
     "status": "completed"
    },
    "tags": []
   },
   "outputs": [
    {
     "name": "stdout",
     "output_type": "stream",
     "text": [
      "Shape of train data: (891, 12)\n",
      "Shape of train data: (418, 11)\n",
      "Shape of train data: (891, 12)\n"
     ]
    }
   ],
   "source": [
    "print(f\"Shape of train data: {train_data.shape}\")\n",
    "print(f\"Shape of train data: {test_data.shape}\")\n",
    "print(f\"Shape of train data: {data.shape}\")"
   ]
  },
  {
   "cell_type": "code",
   "execution_count": 5,
   "id": "17d99b57",
   "metadata": {
    "execution": {
     "iopub.execute_input": "2024-12-27T20:47:05.279589Z",
     "iopub.status.busy": "2024-12-27T20:47:05.279246Z",
     "iopub.status.idle": "2024-12-27T20:47:05.304990Z",
     "shell.execute_reply": "2024-12-27T20:47:05.303707Z"
    },
    "papermill": {
     "duration": 0.041335,
     "end_time": "2024-12-27T20:47:05.306889",
     "exception": false,
     "start_time": "2024-12-27T20:47:05.265554",
     "status": "completed"
    },
    "tags": []
   },
   "outputs": [
    {
     "name": "stdout",
     "output_type": "stream",
     "text": [
      "<class 'pandas.core.frame.DataFrame'>\n",
      "RangeIndex: 891 entries, 0 to 890\n",
      "Data columns (total 12 columns):\n",
      " #   Column       Non-Null Count  Dtype  \n",
      "---  ------       --------------  -----  \n",
      " 0   PassengerId  891 non-null    int64  \n",
      " 1   Survived     891 non-null    int64  \n",
      " 2   Pclass       891 non-null    int64  \n",
      " 3   Name         891 non-null    object \n",
      " 4   Sex          891 non-null    object \n",
      " 5   Age          714 non-null    float64\n",
      " 6   SibSp        891 non-null    int64  \n",
      " 7   Parch        891 non-null    int64  \n",
      " 8   Ticket       891 non-null    object \n",
      " 9   Fare         891 non-null    float64\n",
      " 10  Cabin        204 non-null    object \n",
      " 11  Embarked     889 non-null    object \n",
      "dtypes: float64(2), int64(5), object(5)\n",
      "memory usage: 83.7+ KB\n",
      "None\n"
     ]
    }
   ],
   "source": [
    "print(data.info())"
   ]
  },
  {
   "cell_type": "code",
   "execution_count": 6,
   "id": "c234dc55",
   "metadata": {
    "execution": {
     "iopub.execute_input": "2024-12-27T20:47:05.333954Z",
     "iopub.status.busy": "2024-12-27T20:47:05.333544Z",
     "iopub.status.idle": "2024-12-27T20:47:05.360270Z",
     "shell.execute_reply": "2024-12-27T20:47:05.359146Z"
    },
    "papermill": {
     "duration": 0.042265,
     "end_time": "2024-12-27T20:47:05.362127",
     "exception": false,
     "start_time": "2024-12-27T20:47:05.319862",
     "status": "completed"
    },
    "tags": []
   },
   "outputs": [
    {
     "data": {
      "text/html": [
       "<div>\n",
       "<style scoped>\n",
       "    .dataframe tbody tr th:only-of-type {\n",
       "        vertical-align: middle;\n",
       "    }\n",
       "\n",
       "    .dataframe tbody tr th {\n",
       "        vertical-align: top;\n",
       "    }\n",
       "\n",
       "    .dataframe thead th {\n",
       "        text-align: right;\n",
       "    }\n",
       "</style>\n",
       "<table border=\"1\" class=\"dataframe\">\n",
       "  <thead>\n",
       "    <tr style=\"text-align: right;\">\n",
       "      <th></th>\n",
       "      <th>PassengerId</th>\n",
       "      <th>Survived</th>\n",
       "      <th>Pclass</th>\n",
       "      <th>Age</th>\n",
       "      <th>SibSp</th>\n",
       "      <th>Parch</th>\n",
       "      <th>Fare</th>\n",
       "    </tr>\n",
       "  </thead>\n",
       "  <tbody>\n",
       "    <tr>\n",
       "      <th>count</th>\n",
       "      <td>891.000000</td>\n",
       "      <td>891.000000</td>\n",
       "      <td>891.000000</td>\n",
       "      <td>714.000000</td>\n",
       "      <td>891.000000</td>\n",
       "      <td>891.000000</td>\n",
       "      <td>891.000000</td>\n",
       "    </tr>\n",
       "    <tr>\n",
       "      <th>mean</th>\n",
       "      <td>446.000000</td>\n",
       "      <td>0.383838</td>\n",
       "      <td>2.308642</td>\n",
       "      <td>29.699118</td>\n",
       "      <td>0.523008</td>\n",
       "      <td>0.381594</td>\n",
       "      <td>32.204208</td>\n",
       "    </tr>\n",
       "    <tr>\n",
       "      <th>std</th>\n",
       "      <td>257.353842</td>\n",
       "      <td>0.486592</td>\n",
       "      <td>0.836071</td>\n",
       "      <td>14.526497</td>\n",
       "      <td>1.102743</td>\n",
       "      <td>0.806057</td>\n",
       "      <td>49.693429</td>\n",
       "    </tr>\n",
       "    <tr>\n",
       "      <th>min</th>\n",
       "      <td>1.000000</td>\n",
       "      <td>0.000000</td>\n",
       "      <td>1.000000</td>\n",
       "      <td>0.420000</td>\n",
       "      <td>0.000000</td>\n",
       "      <td>0.000000</td>\n",
       "      <td>0.000000</td>\n",
       "    </tr>\n",
       "    <tr>\n",
       "      <th>25%</th>\n",
       "      <td>223.500000</td>\n",
       "      <td>0.000000</td>\n",
       "      <td>2.000000</td>\n",
       "      <td>20.125000</td>\n",
       "      <td>0.000000</td>\n",
       "      <td>0.000000</td>\n",
       "      <td>7.910400</td>\n",
       "    </tr>\n",
       "    <tr>\n",
       "      <th>50%</th>\n",
       "      <td>446.000000</td>\n",
       "      <td>0.000000</td>\n",
       "      <td>3.000000</td>\n",
       "      <td>28.000000</td>\n",
       "      <td>0.000000</td>\n",
       "      <td>0.000000</td>\n",
       "      <td>14.454200</td>\n",
       "    </tr>\n",
       "    <tr>\n",
       "      <th>75%</th>\n",
       "      <td>668.500000</td>\n",
       "      <td>1.000000</td>\n",
       "      <td>3.000000</td>\n",
       "      <td>38.000000</td>\n",
       "      <td>1.000000</td>\n",
       "      <td>0.000000</td>\n",
       "      <td>31.000000</td>\n",
       "    </tr>\n",
       "    <tr>\n",
       "      <th>max</th>\n",
       "      <td>891.000000</td>\n",
       "      <td>1.000000</td>\n",
       "      <td>3.000000</td>\n",
       "      <td>80.000000</td>\n",
       "      <td>8.000000</td>\n",
       "      <td>6.000000</td>\n",
       "      <td>512.329200</td>\n",
       "    </tr>\n",
       "  </tbody>\n",
       "</table>\n",
       "</div>"
      ],
      "text/plain": [
       "       PassengerId    Survived      Pclass         Age       SibSp  \\\n",
       "count   891.000000  891.000000  891.000000  714.000000  891.000000   \n",
       "mean    446.000000    0.383838    2.308642   29.699118    0.523008   \n",
       "std     257.353842    0.486592    0.836071   14.526497    1.102743   \n",
       "min       1.000000    0.000000    1.000000    0.420000    0.000000   \n",
       "25%     223.500000    0.000000    2.000000   20.125000    0.000000   \n",
       "50%     446.000000    0.000000    3.000000   28.000000    0.000000   \n",
       "75%     668.500000    1.000000    3.000000   38.000000    1.000000   \n",
       "max     891.000000    1.000000    3.000000   80.000000    8.000000   \n",
       "\n",
       "            Parch        Fare  \n",
       "count  891.000000  891.000000  \n",
       "mean     0.381594   32.204208  \n",
       "std      0.806057   49.693429  \n",
       "min      0.000000    0.000000  \n",
       "25%      0.000000    7.910400  \n",
       "50%      0.000000   14.454200  \n",
       "75%      0.000000   31.000000  \n",
       "max      6.000000  512.329200  "
      ]
     },
     "execution_count": 6,
     "metadata": {},
     "output_type": "execute_result"
    }
   ],
   "source": [
    "data.describe()"
   ]
  },
  {
   "cell_type": "code",
   "execution_count": 7,
   "id": "04188934",
   "metadata": {
    "execution": {
     "iopub.execute_input": "2024-12-27T20:47:05.392100Z",
     "iopub.status.busy": "2024-12-27T20:47:05.391685Z",
     "iopub.status.idle": "2024-12-27T20:47:05.788925Z",
     "shell.execute_reply": "2024-12-27T20:47:05.787841Z"
    },
    "papermill": {
     "duration": 0.41576,
     "end_time": "2024-12-27T20:47:05.791074",
     "exception": false,
     "start_time": "2024-12-27T20:47:05.375314",
     "status": "completed"
    },
    "tags": []
   },
   "outputs": [
    {
     "name": "stdout",
     "output_type": "stream",
     "text": [
      "PassengerId      0\n",
      "Survived         0\n",
      "Pclass           0\n",
      "Name             0\n",
      "Sex              0\n",
      "Age            177\n",
      "SibSp            0\n",
      "Parch            0\n",
      "Ticket           0\n",
      "Fare             0\n",
      "Cabin          687\n",
      "Embarked         2\n",
      "dtype: int64\n"
     ]
    },
    {
     "data": {
      "image/png": "[encoded data removed]",
      "text/plain": [
       "<Figure size 640x480 with 1 Axes>"
      ]
     },
     "metadata": {},
     "output_type": "display_data"
    }
   ],
   "source": [
    "print(data.isnull().sum())\n",
    "sns.heatmap(data.isnull(),cbar=False)\n",
    "plt.show()"
   ]
  },
  {
   "cell_type": "markdown",
   "id": "2e2012a6",
   "metadata": {
    "papermill": {
     "duration": 0.01369,
     "end_time": "2024-12-27T20:47:05.820353",
     "exception": false,
     "start_time": "2024-12-27T20:47:05.806663",
     "status": "completed"
    },
    "tags": []
   },
   "source": [
    "## Analyising Features"
   ]
  },
  {
   "cell_type": "code",
   "execution_count": 8,
   "id": "61a8316a",
   "metadata": {
    "execution": {
     "iopub.execute_input": "2024-12-27T20:47:05.849562Z",
     "iopub.status.busy": "2024-12-27T20:47:05.849185Z",
     "iopub.status.idle": "2024-12-27T20:47:06.206399Z",
     "shell.execute_reply": "2024-12-27T20:47:06.205144Z"
    },
    "papermill": {
     "duration": 0.373868,
     "end_time": "2024-12-27T20:47:06.208185",
     "exception": false,
     "start_time": "2024-12-27T20:47:05.834317",
     "status": "completed"
    },
    "tags": []
   },
   "outputs": [
    {
     "data": {
      "image/png": "[encoded data removed]",
      "text/plain": [
       "<Figure size 1200x600 with 2 Axes>"
      ]
     },
     "metadata": {},
     "output_type": "display_data"
    }
   ],
   "source": [
    "fig, axes=plt.subplots(1,2,figsize=(12,6))\n",
    "data['Survived'].value_counts().plot.pie(explode=[0,0.1],autopct='%1.1f%%',ax=axes[0],shadow=True)\n",
    "axes[0].set_title('Survived')\n",
    "axes[0].set_ylabel('')\n",
    "sns.countplot(x='Survived',data=data,ax=axes[1])\n",
    "axes[1].set_title('Survived')\n",
    "plt.show()"
   ]
  },
  {
   "cell_type": "markdown",
   "id": "44958c0c",
   "metadata": {
    "papermill": {
     "duration": 0.014598,
     "end_time": "2024-12-27T20:47:06.238193",
     "exception": false,
     "start_time": "2024-12-27T20:47:06.223595",
     "status": "completed"
    },
    "tags": []
   },
   "source": [
    "### Sex"
   ]
  },
  {
   "cell_type": "code",
   "execution_count": 9,
   "id": "57e3fce4",
   "metadata": {
    "execution": {
     "iopub.execute_input": "2024-12-27T20:47:06.269214Z",
     "iopub.status.busy": "2024-12-27T20:47:06.268832Z",
     "iopub.status.idle": "2024-12-27T20:47:06.278350Z",
     "shell.execute_reply": "2024-12-27T20:47:06.277187Z"
    },
    "papermill": {
     "duration": 0.027426,
     "end_time": "2024-12-27T20:47:06.280378",
     "exception": false,
     "start_time": "2024-12-27T20:47:06.252952",
     "status": "completed"
    },
    "tags": []
   },
   "outputs": [
    {
     "data": {
      "text/plain": [
       "Sex     Survived\n",
       "female  0            81\n",
       "        1           233\n",
       "male    0           468\n",
       "        1           109\n",
       "Name: Survived, dtype: int64"
      ]
     },
     "execution_count": 9,
     "metadata": {},
     "output_type": "execute_result"
    }
   ],
   "source": [
    "data.groupby(['Sex', 'Survived'])['Survived'].count()"
   ]
  },
  {
   "cell_type": "code",
   "execution_count": 10,
   "id": "4ad2428d",
   "metadata": {
    "execution": {
     "iopub.execute_input": "2024-12-27T20:47:06.311828Z",
     "iopub.status.busy": "2024-12-27T20:47:06.311417Z",
     "iopub.status.idle": "2024-12-27T20:47:06.728760Z",
     "shell.execute_reply": "2024-12-27T20:47:06.727450Z"
    },
    "papermill": {
     "duration": 0.435552,
     "end_time": "2024-12-27T20:47:06.731028",
     "exception": false,
     "start_time": "2024-12-27T20:47:06.295476",
     "status": "completed"
    },
    "tags": []
   },
   "outputs": [
    {
     "data": {
      "image/png": "[encoded data removed]",
      "text/plain": [
       "<Figure size 1200x600 with 2 Axes>"
      ]
     },
     "metadata": {},
     "output_type": "display_data"
    }
   ],
   "source": [
    "fig, axes = plt.subplots(1,2, figsize=(12,6))\n",
    "sns.countplot(x='Sex', hue='Survived', data=data, ax=axes[0])\n",
    "axes[0].set_title(\"Sex: Dead v Survived \")\n",
    "\n",
    "data[['Sex', 'Survived']].groupby(\"Sex\").mean().plot.bar(ax=axes[1])\n",
    "axes[1].set_title(\"Survival Ratio Among Male and Female\")\n",
    "\n",
    "plt.show()\n"
   ]
  },
  {
   "cell_type": "markdown",
   "id": "07369326",
   "metadata": {
    "papermill": {
     "duration": 0.015899,
     "end_time": "2024-12-27T20:47:06.762867",
     "exception": false,
     "start_time": "2024-12-27T20:47:06.746968",
     "status": "completed"
    },
    "tags": []
   },
   "source": [
    "As we can see there was a high percentage of Female Survior "
   ]
  },
  {
   "cell_type": "markdown",
   "id": "3ed56867",
   "metadata": {
    "papermill": {
     "duration": 0.015448,
     "end_time": "2024-12-27T20:47:06.794417",
     "exception": false,
     "start_time": "2024-12-27T20:47:06.778969",
     "status": "completed"
    },
    "tags": []
   },
   "source": [
    "### Pclass"
   ]
  },
  {
   "cell_type": "code",
   "execution_count": 11,
   "id": "75eb1e39",
   "metadata": {
    "execution": {
     "iopub.execute_input": "2024-12-27T20:47:06.827826Z",
     "iopub.status.busy": "2024-12-27T20:47:06.827424Z",
     "iopub.status.idle": "2024-12-27T20:47:06.864051Z",
     "shell.execute_reply": "2024-12-27T20:47:06.862712Z"
    },
    "papermill": {
     "duration": 0.055074,
     "end_time": "2024-12-27T20:47:06.866040",
     "exception": false,
     "start_time": "2024-12-27T20:47:06.810966",
     "status": "completed"
    },
    "tags": []
   },
   "outputs": [
    {
     "name": "stdout",
     "output_type": "stream",
     "text": [
      "Survived    0    1  All\n",
      "Pclass                 \n",
      "1          80  136  216\n",
      "2          97   87  184\n",
      "3         372  119  491\n",
      "All       549  342  891\n"
     ]
    }
   ],
   "source": [
    "print(pd.crosstab(data['Pclass'], data['Survived'], margins=True))"
   ]
  },
  {
   "cell_type": "code",
   "execution_count": 12,
   "id": "b026b428",
   "metadata": {
    "execution": {
     "iopub.execute_input": "2024-12-27T20:47:06.899143Z",
     "iopub.status.busy": "2024-12-27T20:47:06.898784Z",
     "iopub.status.idle": "2024-12-27T20:47:07.264035Z",
     "shell.execute_reply": "2024-12-27T20:47:07.262712Z"
    },
    "papermill": {
     "duration": 0.384023,
     "end_time": "2024-12-27T20:47:07.265863",
     "exception": false,
     "start_time": "2024-12-27T20:47:06.881840",
     "status": "completed"
    },
    "tags": []
   },
   "outputs": [
    {
     "data": {
      "image/png": "[encoded data removed]",
      "text/plain": [
       "<Figure size 1200x600 with 2 Axes>"
      ]
     },
     "metadata": {},
     "output_type": "display_data"
    }
   ],
   "source": [
    "fig, axes = plt.subplots(1,2,figsize=(12,6))\n",
    "\n",
    "data['Pclass'].value_counts().plot.bar(ax=axes[0])\n",
    "axes[0].set_title('Total number Pclass')\n",
    "\n",
    "sns.countplot(x='Pclass', hue='Survived', data=data,ax=axes[1])\n",
    "axes[1].set_title(\"\")\n",
    "\n",
    "plt.show()"
   ]
  },
  {
   "cell_type": "markdown",
   "id": "af05ee10",
   "metadata": {
    "papermill": {
     "duration": 0.015693,
     "end_time": "2024-12-27T20:47:07.297806",
     "exception": false,
     "start_time": "2024-12-27T20:47:07.282113",
     "status": "completed"
    },
    "tags": []
   },
   "source": [
    "### Age"
   ]
  },
  {
   "cell_type": "code",
   "execution_count": 13,
   "id": "05b6a9d9",
   "metadata": {
    "execution": {
     "iopub.execute_input": "2024-12-27T20:47:07.333590Z",
     "iopub.status.busy": "2024-12-27T20:47:07.333222Z",
     "iopub.status.idle": "2024-12-27T20:47:07.339419Z",
     "shell.execute_reply": "2024-12-27T20:47:07.338269Z"
    },
    "papermill": {
     "duration": 0.027116,
     "end_time": "2024-12-27T20:47:07.341234",
     "exception": false,
     "start_time": "2024-12-27T20:47:07.314118",
     "status": "completed"
    },
    "tags": []
   },
   "outputs": [
    {
     "name": "stdout",
     "output_type": "stream",
     "text": [
      "The youngest Passenger: 0.42\n",
      "The Oldest Passenger: 80.0\n",
      "The average age Passenger: 29.7 \n"
     ]
    }
   ],
   "source": [
    "print(f'The youngest Passenger: {data[\"Age\"].min()}')\n",
    "print(f'The Oldest Passenger: {data[\"Age\"].max()}')\n",
    "print(f'The average age Passenger: {round(data[\"Age\"].mean(),2)} ')"
   ]
  },
  {
   "cell_type": "code",
   "execution_count": 14,
   "id": "e04380f4",
   "metadata": {
    "execution": {
     "iopub.execute_input": "2024-12-27T20:47:07.375503Z",
     "iopub.status.busy": "2024-12-27T20:47:07.375176Z",
     "iopub.status.idle": "2024-12-27T20:47:07.936527Z",
     "shell.execute_reply": "2024-12-27T20:47:07.935369Z"
    },
    "papermill": {
     "duration": 0.580547,
     "end_time": "2024-12-27T20:47:07.938346",
     "exception": false,
     "start_time": "2024-12-27T20:47:07.357799",
     "status": "completed"
    },
    "tags": []
   },
   "outputs": [
    {
     "data": {
      "image/png": "[encoded data removed]",
      "text/plain": [
       "<Figure size 1200x600 with 2 Axes>"
      ]
     },
     "metadata": {},
     "output_type": "display_data"
    }
   ],
   "source": [
    "fig, axes = plt.subplots(1,2,figsize=(12,6))\n",
    "\n",
    "sns.violinplot(x='Pclass',y='Age', data=data, hue='Survived', split=True, ax=axes[0])\n",
    "axes[0].set_title(\"Survival among Pclass and Age\")\n",
    "sns.violinplot(x='Sex',y='Age', data=data, hue='Survived', split=True, ax=axes[1])\n",
    "axes[1].set_title(\"Survival among Sex and Age\")\n",
    "plt.show()"
   ]
  },
  {
   "cell_type": "markdown",
   "id": "d560146f",
   "metadata": {
    "papermill": {
     "duration": 0.0179,
     "end_time": "2024-12-27T20:47:07.974541",
     "exception": false,
     "start_time": "2024-12-27T20:47:07.956641",
     "status": "completed"
    },
    "tags": []
   },
   "source": [
    "### Observations:\n",
    "1. The Survial Rate of young increase among the Pclass the survial rate of young looks good,\n",
    "2. The survial Rate from age 20-40 in Pclass 1 is higher"
   ]
  },
  {
   "cell_type": "markdown",
   "id": "ad6b8ebe",
   "metadata": {
    "papermill": {
     "duration": 0.018976,
     "end_time": "2024-12-27T20:47:08.011829",
     "exception": false,
     "start_time": "2024-12-27T20:47:07.992853",
     "status": "completed"
    },
    "tags": []
   },
   "source": [
    "### Now dealing with null value of Age\n",
    "\n",
    "we can take the mean of the age and replace it with nan, but there is a problem we cant assign an average of 32.22 to a 5 year old,\n",
    "\n",
    "however we can see that in the Name columns there are title assigns MR and MSS \n",
    "thus we can assign the mean values of Mr and Mrs to the respective groups."
   ]
  },
  {
   "cell_type": "code",
   "execution_count": 15,
   "id": "b55d3bd5",
   "metadata": {
    "execution": {
     "iopub.execute_input": "2024-12-27T20:47:08.048854Z",
     "iopub.status.busy": "2024-12-27T20:47:08.048461Z",
     "iopub.status.idle": "2024-12-27T20:47:08.090423Z",
     "shell.execute_reply": "2024-12-27T20:47:08.088838Z"
    },
    "papermill": {
     "duration": 0.063392,
     "end_time": "2024-12-27T20:47:08.093084",
     "exception": false,
     "start_time": "2024-12-27T20:47:08.029692",
     "status": "completed"
    },
    "tags": []
   },
   "outputs": [],
   "source": [
    "data['Initial'] = 0\n",
    "\n",
    "for i in data:\n",
    "    data['Initial'] = data['Name'].str.extract(\"([A-Za-z]+)\\.\")"
   ]
  },
  {
   "cell_type": "code",
   "execution_count": 16,
   "id": "df4e7e39",
   "metadata": {
    "execution": {
     "iopub.execute_input": "2024-12-27T20:47:08.133070Z",
     "iopub.status.busy": "2024-12-27T20:47:08.132635Z",
     "iopub.status.idle": "2024-12-27T20:47:08.138529Z",
     "shell.execute_reply": "2024-12-27T20:47:08.137380Z"
    },
    "papermill": {
     "duration": 0.027649,
     "end_time": "2024-12-27T20:47:08.140264",
     "exception": false,
     "start_time": "2024-12-27T20:47:08.112615",
     "status": "completed"
    },
    "tags": []
   },
   "outputs": [
    {
     "name": "stdout",
     "output_type": "stream",
     "text": [
      "['Mr' 'Mrs' 'Miss' 'Master' 'Don' 'Rev' 'Dr' 'Mme' 'Ms' 'Major' 'Lady'\n",
      " 'Sir' 'Mlle' 'Col' 'Capt' 'Countess' 'Jonkheer']\n"
     ]
    }
   ],
   "source": [
    "titles = data['Initial'].unique()\n",
    "print(titles)"
   ]
  },
  {
   "cell_type": "code",
   "execution_count": 17,
   "id": "dca393a5",
   "metadata": {
    "execution": {
     "iopub.execute_input": "2024-12-27T20:47:08.180899Z",
     "iopub.status.busy": "2024-12-27T20:47:08.180416Z",
     "iopub.status.idle": "2024-12-27T20:47:08.201571Z",
     "shell.execute_reply": "2024-12-27T20:47:08.200452Z"
    },
    "papermill": {
     "duration": 0.042513,
     "end_time": "2024-12-27T20:47:08.203329",
     "exception": false,
     "start_time": "2024-12-27T20:47:08.160816",
     "status": "completed"
    },
    "tags": []
   },
   "outputs": [
    {
     "data": {
      "text/html": [
       "<div>\n",
       "<style scoped>\n",
       "    .dataframe tbody tr th:only-of-type {\n",
       "        vertical-align: middle;\n",
       "    }\n",
       "\n",
       "    .dataframe tbody tr th {\n",
       "        vertical-align: top;\n",
       "    }\n",
       "\n",
       "    .dataframe thead th {\n",
       "        text-align: right;\n",
       "    }\n",
       "</style>\n",
       "<table border=\"1\" class=\"dataframe\">\n",
       "  <thead>\n",
       "    <tr style=\"text-align: right;\">\n",
       "      <th>Initial</th>\n",
       "      <th>Capt</th>\n",
       "      <th>Col</th>\n",
       "      <th>Countess</th>\n",
       "      <th>Don</th>\n",
       "      <th>Dr</th>\n",
       "      <th>Jonkheer</th>\n",
       "      <th>Lady</th>\n",
       "      <th>Major</th>\n",
       "      <th>Master</th>\n",
       "      <th>Miss</th>\n",
       "      <th>Mlle</th>\n",
       "      <th>Mme</th>\n",
       "      <th>Mr</th>\n",
       "      <th>Mrs</th>\n",
       "      <th>Ms</th>\n",
       "      <th>Rev</th>\n",
       "      <th>Sir</th>\n",
       "    </tr>\n",
       "    <tr>\n",
       "      <th>Sex</th>\n",
       "      <th></th>\n",
       "      <th></th>\n",
       "      <th></th>\n",
       "      <th></th>\n",
       "      <th></th>\n",
       "      <th></th>\n",
       "      <th></th>\n",
       "      <th></th>\n",
       "      <th></th>\n",
       "      <th></th>\n",
       "      <th></th>\n",
       "      <th></th>\n",
       "      <th></th>\n",
       "      <th></th>\n",
       "      <th></th>\n",
       "      <th></th>\n",
       "      <th></th>\n",
       "    </tr>\n",
       "  </thead>\n",
       "  <tbody>\n",
       "    <tr>\n",
       "      <th>female</th>\n",
       "      <td>0</td>\n",
       "      <td>0</td>\n",
       "      <td>1</td>\n",
       "      <td>0</td>\n",
       "      <td>1</td>\n",
       "      <td>0</td>\n",
       "      <td>1</td>\n",
       "      <td>0</td>\n",
       "      <td>0</td>\n",
       "      <td>182</td>\n",
       "      <td>2</td>\n",
       "      <td>1</td>\n",
       "      <td>0</td>\n",
       "      <td>125</td>\n",
       "      <td>1</td>\n",
       "      <td>0</td>\n",
       "      <td>0</td>\n",
       "    </tr>\n",
       "    <tr>\n",
       "      <th>male</th>\n",
       "      <td>1</td>\n",
       "      <td>2</td>\n",
       "      <td>0</td>\n",
       "      <td>1</td>\n",
       "      <td>6</td>\n",
       "      <td>1</td>\n",
       "      <td>0</td>\n",
       "      <td>2</td>\n",
       "      <td>40</td>\n",
       "      <td>0</td>\n",
       "      <td>0</td>\n",
       "      <td>0</td>\n",
       "      <td>517</td>\n",
       "      <td>0</td>\n",
       "      <td>0</td>\n",
       "      <td>6</td>\n",
       "      <td>1</td>\n",
       "    </tr>\n",
       "  </tbody>\n",
       "</table>\n",
       "</div>"
      ],
      "text/plain": [
       "Initial  Capt  Col  Countess  Don  Dr  Jonkheer  Lady  Major  Master  Miss  \\\n",
       "Sex                                                                          \n",
       "female      0    0         1    0   1         0     1      0       0   182   \n",
       "male        1    2         0    1   6         1     0      2      40     0   \n",
       "\n",
       "Initial  Mlle  Mme   Mr  Mrs  Ms  Rev  Sir  \n",
       "Sex                                         \n",
       "female      2    1    0  125   1    0    0  \n",
       "male        0    0  517    0   0    6    1  "
      ]
     },
     "execution_count": 17,
     "metadata": {},
     "output_type": "execute_result"
    }
   ],
   "source": [
    "pd.crosstab(data['Initial'], data['Sex']).T"
   ]
  },
  {
   "cell_type": "code",
   "execution_count": 18,
   "id": "b66d589c",
   "metadata": {
    "execution": {
     "iopub.execute_input": "2024-12-27T20:47:08.240640Z",
     "iopub.status.busy": "2024-12-27T20:47:08.240232Z",
     "iopub.status.idle": "2024-12-27T20:47:08.249085Z",
     "shell.execute_reply": "2024-12-27T20:47:08.247876Z"
    },
    "papermill": {
     "duration": 0.029478,
     "end_time": "2024-12-27T20:47:08.250809",
     "exception": false,
     "start_time": "2024-12-27T20:47:08.221331",
     "status": "completed"
    },
    "tags": []
   },
   "outputs": [],
   "source": [
    "data['Initial'].replace(['Mme', 'Ms','Mlle','Dr','Major','Lady','Countess','Sir','Capt','Col','Jonkheer','Rev', 'Col', 'Don', \"Dona\"],\n",
    "                        ['Miss', 'Miss','Miss','Mr','Mr',\"Mrs\",'Mrs','Mr','Mr', 'Mr','Other','Other','Other','Mr', 'Mrs'],inplace=True)"
   ]
  },
  {
   "cell_type": "code",
   "execution_count": 19,
   "id": "62c782a4",
   "metadata": {
    "execution": {
     "iopub.execute_input": "2024-12-27T20:47:08.288364Z",
     "iopub.status.busy": "2024-12-27T20:47:08.288035Z",
     "iopub.status.idle": "2024-12-27T20:47:08.296780Z",
     "shell.execute_reply": "2024-12-27T20:47:08.295655Z"
    },
    "papermill": {
     "duration": 0.029514,
     "end_time": "2024-12-27T20:47:08.298504",
     "exception": false,
     "start_time": "2024-12-27T20:47:08.268990",
     "status": "completed"
    },
    "tags": []
   },
   "outputs": [
    {
     "data": {
      "text/plain": [
       "Initial\n",
       "Master     4.574167\n",
       "Miss      21.860000\n",
       "Mr        32.739609\n",
       "Mrs       35.981818\n",
       "Other     45.888889\n",
       "Name: Age, dtype: float64"
      ]
     },
     "execution_count": 19,
     "metadata": {},
     "output_type": "execute_result"
    }
   ],
   "source": [
    "data.groupby('Initial')['Age'].mean()"
   ]
  },
  {
   "cell_type": "code",
   "execution_count": 20,
   "id": "4fa226fa",
   "metadata": {
    "execution": {
     "iopub.execute_input": "2024-12-27T20:47:08.336320Z",
     "iopub.status.busy": "2024-12-27T20:47:08.335970Z",
     "iopub.status.idle": "2024-12-27T20:47:08.348242Z",
     "shell.execute_reply": "2024-12-27T20:47:08.347168Z"
    },
    "papermill": {
     "duration": 0.033576,
     "end_time": "2024-12-27T20:47:08.350533",
     "exception": false,
     "start_time": "2024-12-27T20:47:08.316957",
     "status": "completed"
    },
    "tags": []
   },
   "outputs": [],
   "source": [
    "data.loc[(data['Age'].isnull()) & (data['Initial']=='Master'),\"Age\"] = 5.48\n",
    "data.loc[(data['Age'].isnull()) & (data['Initial']=='Miss'),\"Age\"] = 21.83\n",
    "data.loc[(data['Age'].isnull()) & (data['Initial']=='Mr'),\"Age\"] = 32.54\n",
    "data.loc[(data['Age'].isnull()) & (data['Initial']=='Mrs'),\"Age\"] = 37.04\n",
    "data.loc[(data['Age'].isnull()) & (data['Initial']=='Other'),\"Age\"] = 44"
   ]
  },
  {
   "cell_type": "code",
   "execution_count": 21,
   "id": "c372bedf",
   "metadata": {
    "execution": {
     "iopub.execute_input": "2024-12-27T20:47:08.390654Z",
     "iopub.status.busy": "2024-12-27T20:47:08.390271Z",
     "iopub.status.idle": "2024-12-27T20:47:08.396949Z",
     "shell.execute_reply": "2024-12-27T20:47:08.395857Z"
    },
    "papermill": {
     "duration": 0.028385,
     "end_time": "2024-12-27T20:47:08.398701",
     "exception": false,
     "start_time": "2024-12-27T20:47:08.370316",
     "status": "completed"
    },
    "tags": []
   },
   "outputs": [
    {
     "data": {
      "text/plain": [
       "False"
      ]
     },
     "execution_count": 21,
     "metadata": {},
     "output_type": "execute_result"
    }
   ],
   "source": [
    "data['Age'].isnull().any()"
   ]
  },
  {
   "cell_type": "markdown",
   "id": "1ae28814",
   "metadata": {
    "papermill": {
     "duration": 0.017832,
     "end_time": "2024-12-27T20:47:08.434819",
     "exception": false,
     "start_time": "2024-12-27T20:47:08.416987",
     "status": "completed"
    },
    "tags": []
   },
   "source": [
    "### Embarked"
   ]
  },
  {
   "cell_type": "code",
   "execution_count": 22,
   "id": "8b626e18",
   "metadata": {
    "execution": {
     "iopub.execute_input": "2024-12-27T20:47:08.472544Z",
     "iopub.status.busy": "2024-12-27T20:47:08.472221Z",
     "iopub.status.idle": "2024-12-27T20:47:08.516982Z",
     "shell.execute_reply": "2024-12-27T20:47:08.515762Z"
    },
    "papermill": {
     "duration": 0.065862,
     "end_time": "2024-12-27T20:47:08.518840",
     "exception": false,
     "start_time": "2024-12-27T20:47:08.452978",
     "status": "completed"
    },
    "tags": []
   },
   "outputs": [
    {
     "data": {
      "text/html": [
       "<div>\n",
       "<style scoped>\n",
       "    .dataframe tbody tr th:only-of-type {\n",
       "        vertical-align: middle;\n",
       "    }\n",
       "\n",
       "    .dataframe tbody tr th {\n",
       "        vertical-align: top;\n",
       "    }\n",
       "\n",
       "    .dataframe thead tr th {\n",
       "        text-align: left;\n",
       "    }\n",
       "\n",
       "    .dataframe thead tr:last-of-type th {\n",
       "        text-align: right;\n",
       "    }\n",
       "</style>\n",
       "<table border=\"1\" class=\"dataframe\">\n",
       "  <thead>\n",
       "    <tr>\n",
       "      <th></th>\n",
       "      <th>Embarked</th>\n",
       "      <th colspan=\"3\" halign=\"left\">C</th>\n",
       "      <th colspan=\"3\" halign=\"left\">Q</th>\n",
       "      <th colspan=\"3\" halign=\"left\">S</th>\n",
       "      <th>All</th>\n",
       "    </tr>\n",
       "    <tr>\n",
       "      <th></th>\n",
       "      <th>Pclass</th>\n",
       "      <th>1</th>\n",
       "      <th>2</th>\n",
       "      <th>3</th>\n",
       "      <th>1</th>\n",
       "      <th>2</th>\n",
       "      <th>3</th>\n",
       "      <th>1</th>\n",
       "      <th>2</th>\n",
       "      <th>3</th>\n",
       "      <th></th>\n",
       "    </tr>\n",
       "    <tr>\n",
       "      <th>Sex</th>\n",
       "      <th>Survived</th>\n",
       "      <th></th>\n",
       "      <th></th>\n",
       "      <th></th>\n",
       "      <th></th>\n",
       "      <th></th>\n",
       "      <th></th>\n",
       "      <th></th>\n",
       "      <th></th>\n",
       "      <th></th>\n",
       "      <th></th>\n",
       "    </tr>\n",
       "  </thead>\n",
       "  <tbody>\n",
       "    <tr>\n",
       "      <th rowspan=\"2\" valign=\"top\">female</th>\n",
       "      <th>0</th>\n",
       "      <td>1</td>\n",
       "      <td>0</td>\n",
       "      <td>8</td>\n",
       "      <td>0</td>\n",
       "      <td>0</td>\n",
       "      <td>9</td>\n",
       "      <td>2</td>\n",
       "      <td>6</td>\n",
       "      <td>55</td>\n",
       "      <td>81</td>\n",
       "    </tr>\n",
       "    <tr>\n",
       "      <th>1</th>\n",
       "      <td>42</td>\n",
       "      <td>7</td>\n",
       "      <td>15</td>\n",
       "      <td>1</td>\n",
       "      <td>2</td>\n",
       "      <td>24</td>\n",
       "      <td>46</td>\n",
       "      <td>61</td>\n",
       "      <td>33</td>\n",
       "      <td>231</td>\n",
       "    </tr>\n",
       "    <tr>\n",
       "      <th rowspan=\"2\" valign=\"top\">male</th>\n",
       "      <th>0</th>\n",
       "      <td>25</td>\n",
       "      <td>8</td>\n",
       "      <td>33</td>\n",
       "      <td>1</td>\n",
       "      <td>1</td>\n",
       "      <td>36</td>\n",
       "      <td>51</td>\n",
       "      <td>82</td>\n",
       "      <td>231</td>\n",
       "      <td>468</td>\n",
       "    </tr>\n",
       "    <tr>\n",
       "      <th>1</th>\n",
       "      <td>17</td>\n",
       "      <td>2</td>\n",
       "      <td>10</td>\n",
       "      <td>0</td>\n",
       "      <td>0</td>\n",
       "      <td>3</td>\n",
       "      <td>28</td>\n",
       "      <td>15</td>\n",
       "      <td>34</td>\n",
       "      <td>109</td>\n",
       "    </tr>\n",
       "    <tr>\n",
       "      <th>All</th>\n",
       "      <th></th>\n",
       "      <td>85</td>\n",
       "      <td>17</td>\n",
       "      <td>66</td>\n",
       "      <td>2</td>\n",
       "      <td>3</td>\n",
       "      <td>72</td>\n",
       "      <td>127</td>\n",
       "      <td>164</td>\n",
       "      <td>353</td>\n",
       "      <td>889</td>\n",
       "    </tr>\n",
       "  </tbody>\n",
       "</table>\n",
       "</div>"
      ],
      "text/plain": [
       "Embarked          C          Q           S            All\n",
       "Pclass            1   2   3  1  2   3    1    2    3     \n",
       "Sex    Survived                                          \n",
       "female 0          1   0   8  0  0   9    2    6   55   81\n",
       "       1         42   7  15  1  2  24   46   61   33  231\n",
       "male   0         25   8  33  1  1  36   51   82  231  468\n",
       "       1         17   2  10  0  0   3   28   15   34  109\n",
       "All              85  17  66  2  3  72  127  164  353  889"
      ]
     },
     "execution_count": 22,
     "metadata": {},
     "output_type": "execute_result"
    }
   ],
   "source": [
    "pd.crosstab([data['Embarked'], data['Pclass']], [data['Sex'],data['Survived']], margins=True).T"
   ]
  },
  {
   "cell_type": "code",
   "execution_count": 23,
   "id": "a68073a2",
   "metadata": {
    "execution": {
     "iopub.execute_input": "2024-12-27T20:47:08.559486Z",
     "iopub.status.busy": "2024-12-27T20:47:08.559139Z",
     "iopub.status.idle": "2024-12-27T20:47:09.276043Z",
     "shell.execute_reply": "2024-12-27T20:47:09.274912Z"
    },
    "papermill": {
     "duration": 0.740502,
     "end_time": "2024-12-27T20:47:09.277993",
     "exception": false,
     "start_time": "2024-12-27T20:47:08.537491",
     "status": "completed"
    },
    "tags": []
   },
   "outputs": [
    {
     "data": {
      "image/png": "[encoded data removed]",
      "text/plain": [
       "<Figure size 1600x800 with 4 Axes>"
      ]
     },
     "metadata": {},
     "output_type": "display_data"
    }
   ],
   "source": [
    "fig, axes = plt.subplots(2,2,figsize=(16,8))\n",
    "\n",
    "sns.countplot(x='Embarked', data=data, ax=axes[0,0])\n",
    "axes[0,0].set_title(\"Total number of Embarked\")\n",
    "sns.countplot(x='Embarked', hue='Sex', data=data, ax=axes[0,1])\n",
    "axes[0,1].set_title('Male vs Female')\n",
    "sns.countplot(x='Embarked',hue='Pclass', data=data, ax=axes[1,0])\n",
    "axes[1,0].set_title('Pclass')\n",
    "sns.countplot(x='Embarked',hue='Survived', data=data, ax=axes[1,1])\n",
    "axes[1,1].set_title('Survived')\n",
    "plt.subplots_adjust(wspace=0.2,hspace=0.5)\n",
    "plt.show()"
   ]
  },
  {
   "cell_type": "markdown",
   "id": "40370410",
   "metadata": {
    "papermill": {
     "duration": 0.020514,
     "end_time": "2024-12-27T20:47:09.318968",
     "exception": false,
     "start_time": "2024-12-27T20:47:09.298454",
     "status": "completed"
    },
    "tags": []
   },
   "source": [
    "majority of the passenger from either class embarked from S"
   ]
  },
  {
   "cell_type": "code",
   "execution_count": 24,
   "id": "0828c1ae",
   "metadata": {
    "execution": {
     "iopub.execute_input": "2024-12-27T20:47:09.360880Z",
     "iopub.status.busy": "2024-12-27T20:47:09.360354Z",
     "iopub.status.idle": "2024-12-27T20:47:09.369347Z",
     "shell.execute_reply": "2024-12-27T20:47:09.368090Z"
    },
    "papermill": {
     "duration": 0.032832,
     "end_time": "2024-12-27T20:47:09.371318",
     "exception": false,
     "start_time": "2024-12-27T20:47:09.338486",
     "status": "completed"
    },
    "tags": []
   },
   "outputs": [
    {
     "data": {
      "text/plain": [
       "False"
      ]
     },
     "execution_count": 24,
     "metadata": {},
     "output_type": "execute_result"
    }
   ],
   "source": [
    "data['Embarked'].fillna(\"S\", inplace=True)\n",
    "data[\"Embarked\"].isnull().any()"
   ]
  },
  {
   "cell_type": "code",
   "execution_count": 25,
   "id": "1af782ea",
   "metadata": {
    "execution": {
     "iopub.execute_input": "2024-12-27T20:47:09.412561Z",
     "iopub.status.busy": "2024-12-27T20:47:09.412172Z",
     "iopub.status.idle": "2024-12-27T20:47:09.448019Z",
     "shell.execute_reply": "2024-12-27T20:47:09.446861Z"
    },
    "papermill": {
     "duration": 0.0588,
     "end_time": "2024-12-27T20:47:09.449933",
     "exception": false,
     "start_time": "2024-12-27T20:47:09.391133",
     "status": "completed"
    },
    "tags": []
   },
   "outputs": [
    {
     "data": {
      "text/html": [
       "<div>\n",
       "<style scoped>\n",
       "    .dataframe tbody tr th:only-of-type {\n",
       "        vertical-align: middle;\n",
       "    }\n",
       "\n",
       "    .dataframe tbody tr th {\n",
       "        vertical-align: top;\n",
       "    }\n",
       "\n",
       "    .dataframe thead th {\n",
       "        text-align: right;\n",
       "    }\n",
       "</style>\n",
       "<table border=\"1\" class=\"dataframe\">\n",
       "  <thead>\n",
       "    <tr style=\"text-align: right;\">\n",
       "      <th>SibSp</th>\n",
       "      <th>0</th>\n",
       "      <th>1</th>\n",
       "      <th>2</th>\n",
       "      <th>3</th>\n",
       "      <th>4</th>\n",
       "      <th>5</th>\n",
       "      <th>8</th>\n",
       "      <th>All</th>\n",
       "    </tr>\n",
       "    <tr>\n",
       "      <th>Survived</th>\n",
       "      <th></th>\n",
       "      <th></th>\n",
       "      <th></th>\n",
       "      <th></th>\n",
       "      <th></th>\n",
       "      <th></th>\n",
       "      <th></th>\n",
       "      <th></th>\n",
       "    </tr>\n",
       "  </thead>\n",
       "  <tbody>\n",
       "    <tr>\n",
       "      <th>0</th>\n",
       "      <td>398</td>\n",
       "      <td>97</td>\n",
       "      <td>15</td>\n",
       "      <td>12</td>\n",
       "      <td>15</td>\n",
       "      <td>5</td>\n",
       "      <td>7</td>\n",
       "      <td>549</td>\n",
       "    </tr>\n",
       "    <tr>\n",
       "      <th>1</th>\n",
       "      <td>210</td>\n",
       "      <td>112</td>\n",
       "      <td>13</td>\n",
       "      <td>4</td>\n",
       "      <td>3</td>\n",
       "      <td>0</td>\n",
       "      <td>0</td>\n",
       "      <td>342</td>\n",
       "    </tr>\n",
       "    <tr>\n",
       "      <th>All</th>\n",
       "      <td>608</td>\n",
       "      <td>209</td>\n",
       "      <td>28</td>\n",
       "      <td>16</td>\n",
       "      <td>18</td>\n",
       "      <td>5</td>\n",
       "      <td>7</td>\n",
       "      <td>891</td>\n",
       "    </tr>\n",
       "  </tbody>\n",
       "</table>\n",
       "</div>"
      ],
      "text/plain": [
       "SibSp       0    1   2   3   4  5  8  All\n",
       "Survived                                 \n",
       "0         398   97  15  12  15  5  7  549\n",
       "1         210  112  13   4   3  0  0  342\n",
       "All       608  209  28  16  18  5  7  891"
      ]
     },
     "execution_count": 25,
     "metadata": {},
     "output_type": "execute_result"
    }
   ],
   "source": [
    "pd.crosstab(data['SibSp'],data['Survived'],margins=True).T"
   ]
  },
  {
   "cell_type": "code",
   "execution_count": 26,
   "id": "efd91254",
   "metadata": {
    "execution": {
     "iopub.execute_input": "2024-12-27T20:47:09.491505Z",
     "iopub.status.busy": "2024-12-27T20:47:09.491127Z",
     "iopub.status.idle": "2024-12-27T20:47:09.949293Z",
     "shell.execute_reply": "2024-12-27T20:47:09.948134Z"
    },
    "papermill": {
     "duration": 0.48113,
     "end_time": "2024-12-27T20:47:09.951156",
     "exception": false,
     "start_time": "2024-12-27T20:47:09.470026",
     "status": "completed"
    },
    "tags": []
   },
   "outputs": [
    {
     "data": {
      "image/png": "[encoded data removed]",
      "text/plain": [
       "<Figure size 640x480 with 1 Axes>"
      ]
     },
     "metadata": {},
     "output_type": "display_data"
    }
   ],
   "source": [
    "sns.barplot(x='Parch',y='Survived',data=data)\n",
    "plt.title('Parch vs Survived')\n",
    "plt.show()"
   ]
  },
  {
   "cell_type": "markdown",
   "id": "b3242bd2",
   "metadata": {
    "papermill": {
     "duration": 0.021338,
     "end_time": "2024-12-27T20:47:09.994353",
     "exception": false,
     "start_time": "2024-12-27T20:47:09.973015",
     "status": "completed"
    },
    "tags": []
   },
   "source": [
    "# Feature Engineering "
   ]
  },
  {
   "cell_type": "code",
   "execution_count": 27,
   "id": "2f3b1d4f",
   "metadata": {
    "execution": {
     "iopub.execute_input": "2024-12-27T20:47:10.036783Z",
     "iopub.status.busy": "2024-12-27T20:47:10.036380Z",
     "iopub.status.idle": "2024-12-27T20:47:10.052210Z",
     "shell.execute_reply": "2024-12-27T20:47:10.050885Z"
    },
    "papermill": {
     "duration": 0.039039,
     "end_time": "2024-12-27T20:47:10.054046",
     "exception": false,
     "start_time": "2024-12-27T20:47:10.015007",
     "status": "completed"
    },
    "tags": []
   },
   "outputs": [
    {
     "data": {
      "text/html": [
       "<div>\n",
       "<style scoped>\n",
       "    .dataframe tbody tr th:only-of-type {\n",
       "        vertical-align: middle;\n",
       "    }\n",
       "\n",
       "    .dataframe tbody tr th {\n",
       "        vertical-align: top;\n",
       "    }\n",
       "\n",
       "    .dataframe thead th {\n",
       "        text-align: right;\n",
       "    }\n",
       "</style>\n",
       "<table border=\"1\" class=\"dataframe\">\n",
       "  <thead>\n",
       "    <tr style=\"text-align: right;\">\n",
       "      <th></th>\n",
       "      <th>PassengerId</th>\n",
       "      <th>Survived</th>\n",
       "      <th>Pclass</th>\n",
       "      <th>Name</th>\n",
       "      <th>Sex</th>\n",
       "      <th>Age</th>\n",
       "      <th>SibSp</th>\n",
       "      <th>Parch</th>\n",
       "      <th>Ticket</th>\n",
       "      <th>Fare</th>\n",
       "      <th>Cabin</th>\n",
       "      <th>Embarked</th>\n",
       "      <th>Initial</th>\n",
       "    </tr>\n",
       "  </thead>\n",
       "  <tbody>\n",
       "    <tr>\n",
       "      <th>0</th>\n",
       "      <td>1</td>\n",
       "      <td>0</td>\n",
       "      <td>3</td>\n",
       "      <td>Braund, Mr. Owen Harris</td>\n",
       "      <td>male</td>\n",
       "      <td>22.0</td>\n",
       "      <td>1</td>\n",
       "      <td>0</td>\n",
       "      <td>A/5 21171</td>\n",
       "      <td>7.2500</td>\n",
       "      <td>NaN</td>\n",
       "      <td>S</td>\n",
       "      <td>Mr</td>\n",
       "    </tr>\n",
       "    <tr>\n",
       "      <th>1</th>\n",
       "      <td>2</td>\n",
       "      <td>1</td>\n",
       "      <td>1</td>\n",
       "      <td>Cumings, Mrs. John Bradley (Florence Briggs Th...</td>\n",
       "      <td>female</td>\n",
       "      <td>38.0</td>\n",
       "      <td>1</td>\n",
       "      <td>0</td>\n",
       "      <td>PC 17599</td>\n",
       "      <td>71.2833</td>\n",
       "      <td>C85</td>\n",
       "      <td>C</td>\n",
       "      <td>Mrs</td>\n",
       "    </tr>\n",
       "    <tr>\n",
       "      <th>2</th>\n",
       "      <td>3</td>\n",
       "      <td>1</td>\n",
       "      <td>3</td>\n",
       "      <td>Heikkinen, Miss. Laina</td>\n",
       "      <td>female</td>\n",
       "      <td>26.0</td>\n",
       "      <td>0</td>\n",
       "      <td>0</td>\n",
       "      <td>STON/O2. 3101282</td>\n",
       "      <td>7.9250</td>\n",
       "      <td>NaN</td>\n",
       "      <td>S</td>\n",
       "      <td>Miss</td>\n",
       "    </tr>\n",
       "    <tr>\n",
       "      <th>3</th>\n",
       "      <td>4</td>\n",
       "      <td>1</td>\n",
       "      <td>1</td>\n",
       "      <td>Futrelle, Mrs. Jacques Heath (Lily May Peel)</td>\n",
       "      <td>female</td>\n",
       "      <td>35.0</td>\n",
       "      <td>1</td>\n",
       "      <td>0</td>\n",
       "      <td>113803</td>\n",
       "      <td>53.1000</td>\n",
       "      <td>C123</td>\n",
       "      <td>S</td>\n",
       "      <td>Mrs</td>\n",
       "    </tr>\n",
       "    <tr>\n",
       "      <th>4</th>\n",
       "      <td>5</td>\n",
       "      <td>0</td>\n",
       "      <td>3</td>\n",
       "      <td>Allen, Mr. William Henry</td>\n",
       "      <td>male</td>\n",
       "      <td>35.0</td>\n",
       "      <td>0</td>\n",
       "      <td>0</td>\n",
       "      <td>373450</td>\n",
       "      <td>8.0500</td>\n",
       "      <td>NaN</td>\n",
       "      <td>S</td>\n",
       "      <td>Mr</td>\n",
       "    </tr>\n",
       "  </tbody>\n",
       "</table>\n",
       "</div>"
      ],
      "text/plain": [
       "   PassengerId  Survived  Pclass  \\\n",
       "0            1         0       3   \n",
       "1            2         1       1   \n",
       "2            3         1       3   \n",
       "3            4         1       1   \n",
       "4            5         0       3   \n",
       "\n",
       "                                                Name     Sex   Age  SibSp  \\\n",
       "0                            Braund, Mr. Owen Harris    male  22.0      1   \n",
       "1  Cumings, Mrs. John Bradley (Florence Briggs Th...  female  38.0      1   \n",
       "2                             Heikkinen, Miss. Laina  female  26.0      0   \n",
       "3       Futrelle, Mrs. Jacques Heath (Lily May Peel)  female  35.0      1   \n",
       "4                           Allen, Mr. William Henry    male  35.0      0   \n",
       "\n",
       "   Parch            Ticket     Fare Cabin Embarked Initial  \n",
       "0      0         A/5 21171   7.2500   NaN        S      Mr  \n",
       "1      0          PC 17599  71.2833   C85        C     Mrs  \n",
       "2      0  STON/O2. 3101282   7.9250   NaN        S    Miss  \n",
       "3      0            113803  53.1000  C123        S     Mrs  \n",
       "4      0            373450   8.0500   NaN        S      Mr  "
      ]
     },
     "execution_count": 27,
     "metadata": {},
     "output_type": "execute_result"
    }
   ],
   "source": [
    "data.head()"
   ]
  },
  {
   "cell_type": "code",
   "execution_count": 28,
   "id": "2a18b91c",
   "metadata": {
    "execution": {
     "iopub.execute_input": "2024-12-27T20:47:10.098647Z",
     "iopub.status.busy": "2024-12-27T20:47:10.098311Z",
     "iopub.status.idle": "2024-12-27T20:47:10.105329Z",
     "shell.execute_reply": "2024-12-27T20:47:10.104032Z"
    },
    "papermill": {
     "duration": 0.031224,
     "end_time": "2024-12-27T20:47:10.107462",
     "exception": false,
     "start_time": "2024-12-27T20:47:10.076238",
     "status": "completed"
    },
    "tags": []
   },
   "outputs": [],
   "source": [
    "data['Family_size'] = 0\n",
    "data['Family_size'] = data['Parch'] + data['SibSp']\n",
    "data['Alone'] = 0\n",
    "data.loc[data['Family_size']==0, 'Alone'] = 1"
   ]
  },
  {
   "cell_type": "code",
   "execution_count": 29,
   "id": "54771fc3",
   "metadata": {
    "execution": {
     "iopub.execute_input": "2024-12-27T20:47:10.167700Z",
     "iopub.status.busy": "2024-12-27T20:47:10.167259Z",
     "iopub.status.idle": "2024-12-27T20:47:10.207475Z",
     "shell.execute_reply": "2024-12-27T20:47:10.206396Z"
    },
    "papermill": {
     "duration": 0.074065,
     "end_time": "2024-12-27T20:47:10.209427",
     "exception": false,
     "start_time": "2024-12-27T20:47:10.135362",
     "status": "completed"
    },
    "tags": []
   },
   "outputs": [
    {
     "data": {
      "text/html": [
       "<div>\n",
       "<style scoped>\n",
       "    .dataframe tbody tr th:only-of-type {\n",
       "        vertical-align: middle;\n",
       "    }\n",
       "\n",
       "    .dataframe tbody tr th {\n",
       "        vertical-align: top;\n",
       "    }\n",
       "\n",
       "    .dataframe thead th {\n",
       "        text-align: right;\n",
       "    }\n",
       "</style>\n",
       "<table border=\"1\" class=\"dataframe\">\n",
       "  <thead>\n",
       "    <tr style=\"text-align: right;\">\n",
       "      <th>Family_size</th>\n",
       "      <th>0</th>\n",
       "      <th>1</th>\n",
       "      <th>2</th>\n",
       "      <th>3</th>\n",
       "      <th>4</th>\n",
       "      <th>5</th>\n",
       "      <th>6</th>\n",
       "      <th>7</th>\n",
       "      <th>10</th>\n",
       "      <th>All</th>\n",
       "    </tr>\n",
       "    <tr>\n",
       "      <th>Survived</th>\n",
       "      <th></th>\n",
       "      <th></th>\n",
       "      <th></th>\n",
       "      <th></th>\n",
       "      <th></th>\n",
       "      <th></th>\n",
       "      <th></th>\n",
       "      <th></th>\n",
       "      <th></th>\n",
       "      <th></th>\n",
       "    </tr>\n",
       "  </thead>\n",
       "  <tbody>\n",
       "    <tr>\n",
       "      <th>0</th>\n",
       "      <td>374</td>\n",
       "      <td>72</td>\n",
       "      <td>43</td>\n",
       "      <td>8</td>\n",
       "      <td>12</td>\n",
       "      <td>19</td>\n",
       "      <td>8</td>\n",
       "      <td>6</td>\n",
       "      <td>7</td>\n",
       "      <td>549</td>\n",
       "    </tr>\n",
       "    <tr>\n",
       "      <th>1</th>\n",
       "      <td>163</td>\n",
       "      <td>89</td>\n",
       "      <td>59</td>\n",
       "      <td>21</td>\n",
       "      <td>3</td>\n",
       "      <td>3</td>\n",
       "      <td>4</td>\n",
       "      <td>0</td>\n",
       "      <td>0</td>\n",
       "      <td>342</td>\n",
       "    </tr>\n",
       "    <tr>\n",
       "      <th>All</th>\n",
       "      <td>537</td>\n",
       "      <td>161</td>\n",
       "      <td>102</td>\n",
       "      <td>29</td>\n",
       "      <td>15</td>\n",
       "      <td>22</td>\n",
       "      <td>12</td>\n",
       "      <td>6</td>\n",
       "      <td>7</td>\n",
       "      <td>891</td>\n",
       "    </tr>\n",
       "  </tbody>\n",
       "</table>\n",
       "</div>"
      ],
      "text/plain": [
       "Family_size    0    1    2   3   4   5   6  7  10  All\n",
       "Survived                                              \n",
       "0            374   72   43   8  12  19   8  6   7  549\n",
       "1            163   89   59  21   3   3   4  0   0  342\n",
       "All          537  161  102  29  15  22  12  6   7  891"
      ]
     },
     "execution_count": 29,
     "metadata": {},
     "output_type": "execute_result"
    }
   ],
   "source": [
    "pd.crosstab(data['Family_size'],data['Survived'], margins=True).T"
   ]
  },
  {
   "cell_type": "markdown",
   "id": "49cfbfca",
   "metadata": {
    "papermill": {
     "duration": 0.020793,
     "end_time": "2024-12-27T20:47:10.252504",
     "exception": false,
     "start_time": "2024-12-27T20:47:10.231711",
     "status": "completed"
    },
    "tags": []
   },
   "source": [
    "### converting continous to categroical \n",
    "\n",
    "Age is a continous feature, there is a problem with Continous Variables in Machine Learning Models.\n",
    "\n",
    "Eg:If I say to group or arrange Sports Person by Sex, We can easily segregate them by Male and Female.\n",
    "\n",
    "Now if I say to group them by their Age, then how would you do it? If there are 30 Persons, there may be 30 age values. Now this is problematic.\n",
    "\n",
    "We need to convert these continous values into categorical values by either Binning or Normalisation. I will be using binning i.e group a range of ages into a single bin or assign them a single value"
   ]
  },
  {
   "cell_type": "code",
   "execution_count": 30,
   "id": "1dfb3065",
   "metadata": {
    "execution": {
     "iopub.execute_input": "2024-12-27T20:47:10.297199Z",
     "iopub.status.busy": "2024-12-27T20:47:10.296638Z",
     "iopub.status.idle": "2024-12-27T20:47:10.305317Z",
     "shell.execute_reply": "2024-12-27T20:47:10.303588Z"
    },
    "papermill": {
     "duration": 0.034197,
     "end_time": "2024-12-27T20:47:10.308274",
     "exception": false,
     "start_time": "2024-12-27T20:47:10.274077",
     "status": "completed"
    },
    "tags": []
   },
   "outputs": [
    {
     "name": "stdout",
     "output_type": "stream",
     "text": [
      "16.0\n"
     ]
    }
   ],
   "source": [
    "bands = max(data['Age'])/5\n",
    "print(bands)"
   ]
  },
  {
   "cell_type": "code",
   "execution_count": 31,
   "id": "1a0acddd",
   "metadata": {
    "execution": {
     "iopub.execute_input": "2024-12-27T20:47:10.372028Z",
     "iopub.status.busy": "2024-12-27T20:47:10.371573Z",
     "iopub.status.idle": "2024-12-27T20:47:10.401415Z",
     "shell.execute_reply": "2024-12-27T20:47:10.400054Z"
    },
    "papermill": {
     "duration": 0.060526,
     "end_time": "2024-12-27T20:47:10.403642",
     "exception": false,
     "start_time": "2024-12-27T20:47:10.343116",
     "status": "completed"
    },
    "tags": []
   },
   "outputs": [
    {
     "data": {
      "text/html": [
       "<div>\n",
       "<style scoped>\n",
       "    .dataframe tbody tr th:only-of-type {\n",
       "        vertical-align: middle;\n",
       "    }\n",
       "\n",
       "    .dataframe tbody tr th {\n",
       "        vertical-align: top;\n",
       "    }\n",
       "\n",
       "    .dataframe thead th {\n",
       "        text-align: right;\n",
       "    }\n",
       "</style>\n",
       "<table border=\"1\" class=\"dataframe\">\n",
       "  <thead>\n",
       "    <tr style=\"text-align: right;\">\n",
       "      <th></th>\n",
       "      <th>PassengerId</th>\n",
       "      <th>Survived</th>\n",
       "      <th>Pclass</th>\n",
       "      <th>Name</th>\n",
       "      <th>Sex</th>\n",
       "      <th>Age</th>\n",
       "      <th>SibSp</th>\n",
       "      <th>Parch</th>\n",
       "      <th>Ticket</th>\n",
       "      <th>Fare</th>\n",
       "      <th>Cabin</th>\n",
       "      <th>Embarked</th>\n",
       "      <th>Initial</th>\n",
       "      <th>Family_size</th>\n",
       "      <th>Alone</th>\n",
       "      <th>Age_band</th>\n",
       "    </tr>\n",
       "  </thead>\n",
       "  <tbody>\n",
       "    <tr>\n",
       "      <th>0</th>\n",
       "      <td>1</td>\n",
       "      <td>0</td>\n",
       "      <td>3</td>\n",
       "      <td>Braund, Mr. Owen Harris</td>\n",
       "      <td>male</td>\n",
       "      <td>22.0</td>\n",
       "      <td>1</td>\n",
       "      <td>0</td>\n",
       "      <td>A/5 21171</td>\n",
       "      <td>7.2500</td>\n",
       "      <td>NaN</td>\n",
       "      <td>S</td>\n",
       "      <td>Mr</td>\n",
       "      <td>1</td>\n",
       "      <td>0</td>\n",
       "      <td>1</td>\n",
       "    </tr>\n",
       "    <tr>\n",
       "      <th>1</th>\n",
       "      <td>2</td>\n",
       "      <td>1</td>\n",
       "      <td>1</td>\n",
       "      <td>Cumings, Mrs. John Bradley (Florence Briggs Th...</td>\n",
       "      <td>female</td>\n",
       "      <td>38.0</td>\n",
       "      <td>1</td>\n",
       "      <td>0</td>\n",
       "      <td>PC 17599</td>\n",
       "      <td>71.2833</td>\n",
       "      <td>C85</td>\n",
       "      <td>C</td>\n",
       "      <td>Mrs</td>\n",
       "      <td>1</td>\n",
       "      <td>0</td>\n",
       "      <td>2</td>\n",
       "    </tr>\n",
       "    <tr>\n",
       "      <th>2</th>\n",
       "      <td>3</td>\n",
       "      <td>1</td>\n",
       "      <td>3</td>\n",
       "      <td>Heikkinen, Miss. Laina</td>\n",
       "      <td>female</td>\n",
       "      <td>26.0</td>\n",
       "      <td>0</td>\n",
       "      <td>0</td>\n",
       "      <td>STON/O2. 3101282</td>\n",
       "      <td>7.9250</td>\n",
       "      <td>NaN</td>\n",
       "      <td>S</td>\n",
       "      <td>Miss</td>\n",
       "      <td>0</td>\n",
       "      <td>1</td>\n",
       "      <td>1</td>\n",
       "    </tr>\n",
       "  </tbody>\n",
       "</table>\n",
       "</div>"
      ],
      "text/plain": [
       "   PassengerId  Survived  Pclass  \\\n",
       "0            1         0       3   \n",
       "1            2         1       1   \n",
       "2            3         1       3   \n",
       "\n",
       "                                                Name     Sex   Age  SibSp  \\\n",
       "0                            Braund, Mr. Owen Harris    male  22.0      1   \n",
       "1  Cumings, Mrs. John Bradley (Florence Briggs Th...  female  38.0      1   \n",
       "2                             Heikkinen, Miss. Laina  female  26.0      0   \n",
       "\n",
       "   Parch            Ticket     Fare Cabin Embarked Initial  Family_size  \\\n",
       "0      0         A/5 21171   7.2500   NaN        S      Mr            1   \n",
       "1      0          PC 17599  71.2833   C85        C     Mrs            1   \n",
       "2      0  STON/O2. 3101282   7.9250   NaN        S    Miss            0   \n",
       "\n",
       "   Alone  Age_band  \n",
       "0      0         1  \n",
       "1      0         2  \n",
       "2      1         1  "
      ]
     },
     "execution_count": 31,
     "metadata": {},
     "output_type": "execute_result"
    }
   ],
   "source": [
    "data['Age_band'] = 0\n",
    "data.loc[data['Age'] <= 16, 'Age_band'] = 0\n",
    "data.loc[(data['Age']>16) & (data['Age']<=32), 'Age_band'] = 1\n",
    "data.loc[(data['Age']>32) & (data['Age']<=48), 'Age_band'] = 2\n",
    "data.loc[(data['Age']>48) & (data['Age']<=64), 'Age_band'] = 3\n",
    "data.loc[(data['Age']>64), 'Age_band'] = 4\n",
    "data.head(3)"
   ]
  },
  {
   "cell_type": "markdown",
   "id": "9020253c",
   "metadata": {
    "papermill": {
     "duration": 0.021003,
     "end_time": "2024-12-27T20:47:10.445794",
     "exception": false,
     "start_time": "2024-12-27T20:47:10.424791",
     "status": "completed"
    },
    "tags": []
   },
   "source": [
    "### Converting String into numeric"
   ]
  },
  {
   "cell_type": "code",
   "execution_count": 32,
   "id": "fcc53646",
   "metadata": {
    "execution": {
     "iopub.execute_input": "2024-12-27T20:47:10.489982Z",
     "iopub.status.busy": "2024-12-27T20:47:10.489597Z",
     "iopub.status.idle": "2024-12-27T20:47:10.509195Z",
     "shell.execute_reply": "2024-12-27T20:47:10.508101Z"
    },
    "papermill": {
     "duration": 0.044666,
     "end_time": "2024-12-27T20:47:10.511254",
     "exception": false,
     "start_time": "2024-12-27T20:47:10.466588",
     "status": "completed"
    },
    "tags": []
   },
   "outputs": [
    {
     "data": {
      "text/html": [
       "<div>\n",
       "<style scoped>\n",
       "    .dataframe tbody tr th:only-of-type {\n",
       "        vertical-align: middle;\n",
       "    }\n",
       "\n",
       "    .dataframe tbody tr th {\n",
       "        vertical-align: top;\n",
       "    }\n",
       "\n",
       "    .dataframe thead th {\n",
       "        text-align: right;\n",
       "    }\n",
       "</style>\n",
       "<table border=\"1\" class=\"dataframe\">\n",
       "  <thead>\n",
       "    <tr style=\"text-align: right;\">\n",
       "      <th></th>\n",
       "      <th>PassengerId</th>\n",
       "      <th>Survived</th>\n",
       "      <th>Pclass</th>\n",
       "      <th>Name</th>\n",
       "      <th>Sex</th>\n",
       "      <th>Age</th>\n",
       "      <th>SibSp</th>\n",
       "      <th>Parch</th>\n",
       "      <th>Ticket</th>\n",
       "      <th>Fare</th>\n",
       "      <th>Cabin</th>\n",
       "      <th>Embarked</th>\n",
       "      <th>Initial</th>\n",
       "      <th>Family_size</th>\n",
       "      <th>Alone</th>\n",
       "      <th>Age_band</th>\n",
       "    </tr>\n",
       "  </thead>\n",
       "  <tbody>\n",
       "    <tr>\n",
       "      <th>0</th>\n",
       "      <td>1</td>\n",
       "      <td>0</td>\n",
       "      <td>3</td>\n",
       "      <td>Braund, Mr. Owen Harris</td>\n",
       "      <td>0</td>\n",
       "      <td>22.0</td>\n",
       "      <td>1</td>\n",
       "      <td>0</td>\n",
       "      <td>A/5 21171</td>\n",
       "      <td>7.2500</td>\n",
       "      <td>NaN</td>\n",
       "      <td>0</td>\n",
       "      <td>0</td>\n",
       "      <td>1</td>\n",
       "      <td>0</td>\n",
       "      <td>1</td>\n",
       "    </tr>\n",
       "    <tr>\n",
       "      <th>1</th>\n",
       "      <td>2</td>\n",
       "      <td>1</td>\n",
       "      <td>1</td>\n",
       "      <td>Cumings, Mrs. John Bradley (Florence Briggs Th...</td>\n",
       "      <td>1</td>\n",
       "      <td>38.0</td>\n",
       "      <td>1</td>\n",
       "      <td>0</td>\n",
       "      <td>PC 17599</td>\n",
       "      <td>71.2833</td>\n",
       "      <td>C85</td>\n",
       "      <td>1</td>\n",
       "      <td>1</td>\n",
       "      <td>1</td>\n",
       "      <td>0</td>\n",
       "      <td>2</td>\n",
       "    </tr>\n",
       "    <tr>\n",
       "      <th>2</th>\n",
       "      <td>3</td>\n",
       "      <td>1</td>\n",
       "      <td>3</td>\n",
       "      <td>Heikkinen, Miss. Laina</td>\n",
       "      <td>1</td>\n",
       "      <td>26.0</td>\n",
       "      <td>0</td>\n",
       "      <td>0</td>\n",
       "      <td>STON/O2. 3101282</td>\n",
       "      <td>7.9250</td>\n",
       "      <td>NaN</td>\n",
       "      <td>0</td>\n",
       "      <td>2</td>\n",
       "      <td>0</td>\n",
       "      <td>1</td>\n",
       "      <td>1</td>\n",
       "    </tr>\n",
       "  </tbody>\n",
       "</table>\n",
       "</div>"
      ],
      "text/plain": [
       "   PassengerId  Survived  Pclass  \\\n",
       "0            1         0       3   \n",
       "1            2         1       1   \n",
       "2            3         1       3   \n",
       "\n",
       "                                                Name  Sex   Age  SibSp  Parch  \\\n",
       "0                            Braund, Mr. Owen Harris    0  22.0      1      0   \n",
       "1  Cumings, Mrs. John Bradley (Florence Briggs Th...    1  38.0      1      0   \n",
       "2                             Heikkinen, Miss. Laina    1  26.0      0      0   \n",
       "\n",
       "             Ticket     Fare Cabin  Embarked  Initial  Family_size  Alone  \\\n",
       "0         A/5 21171   7.2500   NaN         0        0            1      0   \n",
       "1          PC 17599  71.2833   C85         1        1            1      0   \n",
       "2  STON/O2. 3101282   7.9250   NaN         0        2            0      1   \n",
       "\n",
       "   Age_band  \n",
       "0         1  \n",
       "1         2  \n",
       "2         1  "
      ]
     },
     "execution_count": 32,
     "metadata": {},
     "output_type": "execute_result"
    }
   ],
   "source": [
    "data['Sex'].replace(['male', 'female'], [0,1], inplace=True)\n",
    "data['Embarked'].replace(['S','C','Q'], [0,1,2], inplace=True)\n",
    "data['Initial'].replace(['Mr','Mrs','Miss','Master','Other'],[0,1,2,3,4], inplace=True)\n",
    "data.head(3)"
   ]
  },
  {
   "cell_type": "code",
   "execution_count": 33,
   "id": "e55f6912",
   "metadata": {
    "execution": {
     "iopub.execute_input": "2024-12-27T20:47:10.560003Z",
     "iopub.status.busy": "2024-12-27T20:47:10.559501Z",
     "iopub.status.idle": "2024-12-27T20:47:10.569508Z",
     "shell.execute_reply": "2024-12-27T20:47:10.568350Z"
    },
    "papermill": {
     "duration": 0.039309,
     "end_time": "2024-12-27T20:47:10.571762",
     "exception": false,
     "start_time": "2024-12-27T20:47:10.532453",
     "status": "completed"
    },
    "tags": []
   },
   "outputs": [
    {
     "data": {
      "text/plain": [
       "0      0\n",
       "1      1\n",
       "2      1\n",
       "3      1\n",
       "4      0\n",
       "      ..\n",
       "886    0\n",
       "887    1\n",
       "888    0\n",
       "889    1\n",
       "890    0\n",
       "Name: Survived, Length: 891, dtype: int64"
      ]
     },
     "execution_count": 33,
     "metadata": {},
     "output_type": "execute_result"
    }
   ],
   "source": [
    "feature = ['PassengerId','Survived','Name', 'Age','Ticket','Fare', 'Cabin']\n",
    "X = data.drop(feature, axis=1)\n",
    "y = data['Survived']\n",
    "y.dropna()"
   ]
  },
  {
   "cell_type": "markdown",
   "id": "7ece217a",
   "metadata": {
    "papermill": {
     "duration": 0.022027,
     "end_time": "2024-12-27T20:47:10.621983",
     "exception": false,
     "start_time": "2024-12-27T20:47:10.599956",
     "status": "completed"
    },
    "tags": []
   },
   "source": [
    "# Predictive Modeling"
   ]
  },
  {
   "cell_type": "code",
   "execution_count": 34,
   "id": "ffdabb78",
   "metadata": {
    "execution": {
     "iopub.execute_input": "2024-12-27T20:47:10.665967Z",
     "iopub.status.busy": "2024-12-27T20:47:10.665508Z",
     "iopub.status.idle": "2024-12-27T20:47:11.423793Z",
     "shell.execute_reply": "2024-12-27T20:47:11.422388Z"
    },
    "papermill": {
     "duration": 0.782506,
     "end_time": "2024-12-27T20:47:11.425817",
     "exception": false,
     "start_time": "2024-12-27T20:47:10.643311",
     "status": "completed"
    },
    "tags": []
   },
   "outputs": [],
   "source": [
    "from sklearn.model_selection import train_test_split\n",
    "from sklearn.metrics import accuracy_score\n",
    "from sklearn.metrics import confusion_matrix\n",
    "\n",
    "from sklearn.linear_model import LogisticRegression\n",
    "from sklearn.neighbors import KNeighborsClassifier\n",
    "from sklearn.ensemble import RandomForestClassifier\n",
    "from sklearn.tree import DecisionTreeClassifier"
   ]
  },
  {
   "cell_type": "code",
   "execution_count": 35,
   "id": "1819c0dc",
   "metadata": {
    "execution": {
     "iopub.execute_input": "2024-12-27T20:47:11.471583Z",
     "iopub.status.busy": "2024-12-27T20:47:11.471213Z",
     "iopub.status.idle": "2024-12-27T20:47:11.481090Z",
     "shell.execute_reply": "2024-12-27T20:47:11.479869Z"
    },
    "papermill": {
     "duration": 0.034842,
     "end_time": "2024-12-27T20:47:11.483241",
     "exception": false,
     "start_time": "2024-12-27T20:47:11.448399",
     "status": "completed"
    },
    "tags": []
   },
   "outputs": [],
   "source": [
    "X_train, X_test, y_train, y_test = train_test_split(X,y, test_size=0.2, random_state=47) # For feature data"
   ]
  },
  {
   "cell_type": "markdown",
   "id": "8de5fec2",
   "metadata": {
    "papermill": {
     "duration": 0.02227,
     "end_time": "2024-12-27T20:47:11.527761",
     "exception": false,
     "start_time": "2024-12-27T20:47:11.505491",
     "status": "completed"
    },
    "tags": []
   },
   "source": [
    "## Logistic Regression"
   ]
  },
  {
   "cell_type": "code",
   "execution_count": 36,
   "id": "c58e9625",
   "metadata": {
    "execution": {
     "iopub.execute_input": "2024-12-27T20:47:11.572919Z",
     "iopub.status.busy": "2024-12-27T20:47:11.572483Z",
     "iopub.status.idle": "2024-12-27T20:47:11.601592Z",
     "shell.execute_reply": "2024-12-27T20:47:11.599860Z"
    },
    "papermill": {
     "duration": 0.053968,
     "end_time": "2024-12-27T20:47:11.603774",
     "exception": false,
     "start_time": "2024-12-27T20:47:11.549806",
     "status": "completed"
    },
    "tags": []
   },
   "outputs": [
    {
     "name": "stdout",
     "output_type": "stream",
     "text": [
      "The Accuracy of the Logistic Regression is : 0.79\n"
     ]
    }
   ],
   "source": [
    "log_reg = LogisticRegression()\n",
    "log_reg.fit(X_train, y_train)\n",
    "lr_y_pred = log_reg.predict(X_test)\n",
    "lr_accuracy = accuracy_score(y_test, lr_y_pred)\n",
    "\n",
    "\n",
    "\n",
    "print(f'The Accuracy of the Logistic Regression is : {round(lr_accuracy,2)}')\n"
   ]
  },
  {
   "cell_type": "markdown",
   "id": "16e413ac",
   "metadata": {
    "papermill": {
     "duration": 0.02227,
     "end_time": "2024-12-27T20:47:11.647422",
     "exception": false,
     "start_time": "2024-12-27T20:47:11.625152",
     "status": "completed"
    },
    "tags": []
   },
   "source": [
    "## Decision Tree"
   ]
  },
  {
   "cell_type": "code",
   "execution_count": 37,
   "id": "8ccd50ef",
   "metadata": {
    "execution": {
     "iopub.execute_input": "2024-12-27T20:47:11.694998Z",
     "iopub.status.busy": "2024-12-27T20:47:11.694420Z",
     "iopub.status.idle": "2024-12-27T20:47:11.710013Z",
     "shell.execute_reply": "2024-12-27T20:47:11.708277Z"
    },
    "papermill": {
     "duration": 0.042125,
     "end_time": "2024-12-27T20:47:11.712111",
     "exception": false,
     "start_time": "2024-12-27T20:47:11.669986",
     "status": "completed"
    },
    "tags": []
   },
   "outputs": [
    {
     "name": "stdout",
     "output_type": "stream",
     "text": [
      "The Accuracy of the Decision Tree is : 0.77\n"
     ]
    }
   ],
   "source": [
    "dt = DecisionTreeClassifier()\n",
    "dt.fit(X_train, y_train)\n",
    "dt_y_pred = dt.predict(X_test)\n",
    "dt_accuracy = accuracy_score(y_test, dt_y_pred)\n",
    "\n",
    "\n",
    "print(f'The Accuracy of the Decision Tree is : {round(dt_accuracy,2)}')"
   ]
  },
  {
   "cell_type": "markdown",
   "id": "c7b3a35c",
   "metadata": {
    "papermill": {
     "duration": 0.022376,
     "end_time": "2024-12-27T20:47:11.755998",
     "exception": false,
     "start_time": "2024-12-27T20:47:11.733622",
     "status": "completed"
    },
    "tags": []
   },
   "source": [
    "## KNN"
   ]
  },
  {
   "cell_type": "code",
   "execution_count": 38,
   "id": "8b75d37b",
   "metadata": {
    "execution": {
     "iopub.execute_input": "2024-12-27T20:47:11.803891Z",
     "iopub.status.busy": "2024-12-27T20:47:11.803454Z",
     "iopub.status.idle": "2024-12-27T20:47:11.831124Z",
     "shell.execute_reply": "2024-12-27T20:47:11.829781Z"
    },
    "papermill": {
     "duration": 0.055133,
     "end_time": "2024-12-27T20:47:11.834032",
     "exception": false,
     "start_time": "2024-12-27T20:47:11.778899",
     "status": "completed"
    },
    "tags": []
   },
   "outputs": [
    {
     "name": "stdout",
     "output_type": "stream",
     "text": [
      "The Accuracy of the KNN is : 0.79\n"
     ]
    }
   ],
   "source": [
    "knn = KNeighborsClassifier()\n",
    "knn.fit(X_train, y_train)\n",
    "knn_y_pred = knn.predict(X_test)\n",
    "knn_accuracy = accuracy_score(y_test, knn_y_pred)\n",
    "\n",
    "\n",
    "print(f'The Accuracy of the KNN is : {round(knn_accuracy,2)}')\n"
   ]
  },
  {
   "cell_type": "markdown",
   "id": "8ecad5b1",
   "metadata": {
    "papermill": {
     "duration": 0.022481,
     "end_time": "2024-12-27T20:47:11.881025",
     "exception": false,
     "start_time": "2024-12-27T20:47:11.858544",
     "status": "completed"
    },
    "tags": []
   },
   "source": [
    "## Random Forest Classifier"
   ]
  },
  {
   "cell_type": "code",
   "execution_count": 39,
   "id": "8d195598",
   "metadata": {
    "execution": {
     "iopub.execute_input": "2024-12-27T20:47:11.935125Z",
     "iopub.status.busy": "2024-12-27T20:47:11.934613Z",
     "iopub.status.idle": "2024-12-27T20:47:12.149243Z",
     "shell.execute_reply": "2024-12-27T20:47:12.148085Z"
    },
    "papermill": {
     "duration": 0.246196,
     "end_time": "2024-12-27T20:47:12.151349",
     "exception": false,
     "start_time": "2024-12-27T20:47:11.905153",
     "status": "completed"
    },
    "tags": []
   },
   "outputs": [
    {
     "name": "stdout",
     "output_type": "stream",
     "text": [
      "The Accuracy of Random Forest: 0.77\n"
     ]
    }
   ],
   "source": [
    "rf = RandomForestClassifier(n_estimators=100)\n",
    "rf.fit(X_train, y_train)\n",
    "rf_y_pred = rf.predict(X_test)\n",
    "rf_accuracy = accuracy_score(y_test, rf_y_pred)\n",
    "\n",
    "print(f\"The Accuracy of Random Forest: {round(rf_accuracy,2)}\")"
   ]
  },
  {
   "cell_type": "markdown",
   "id": "4dbde02b",
   "metadata": {
    "papermill": {
     "duration": 0.023853,
     "end_time": "2024-12-27T20:47:12.200517",
     "exception": false,
     "start_time": "2024-12-27T20:47:12.176664",
     "status": "completed"
    },
    "tags": []
   },
   "source": [
    "# Cross Validation "
   ]
  },
  {
   "cell_type": "code",
   "execution_count": 40,
   "id": "11e3efe8",
   "metadata": {
    "execution": {
     "iopub.execute_input": "2024-12-27T20:47:12.246545Z",
     "iopub.status.busy": "2024-12-27T20:47:12.246171Z",
     "iopub.status.idle": "2024-12-27T20:47:14.511945Z",
     "shell.execute_reply": "2024-12-27T20:47:14.510846Z"
    },
    "papermill": {
     "duration": 2.290324,
     "end_time": "2024-12-27T20:47:14.513809",
     "exception": false,
     "start_time": "2024-12-27T20:47:12.223485",
     "status": "completed"
    },
    "tags": []
   },
   "outputs": [
    {
     "data": {
      "image/png": "[encoded data removed]",
      "text/plain": [
       "<Figure size 640x480 with 1 Axes>"
      ]
     },
     "metadata": {},
     "output_type": "display_data"
    }
   ],
   "source": [
    "from sklearn.model_selection import KFold, cross_val_score, cross_val_predict\n",
    "\n",
    "models = {\"Logistic Regression\":LogisticRegression(),\n",
    "          \"Decision Tree\":DecisionTreeClassifier(),\n",
    "          \"KNN\":KNeighborsClassifier(), \n",
    "          \"Random Forest\":RandomForestClassifier()}\n",
    "\n",
    "results = []\n",
    "\n",
    "\n",
    "for model in models.values():\n",
    "    kf = KFold(n_splits=10, random_state=47, shuffle=True)\n",
    "    cv_scores = cross_val_score(model, X_train, y_train, cv=kf)\n",
    "    results.append(cv_scores)\n",
    "\n",
    "plt.boxplot(results, labels=models.keys())\n",
    "plt.show()"
   ]
  },
  {
   "cell_type": "markdown",
   "id": "83457048",
   "metadata": {
    "papermill": {
     "duration": 0.021929,
     "end_time": "2024-12-27T20:47:14.557630",
     "exception": false,
     "start_time": "2024-12-27T20:47:14.535701",
     "status": "completed"
    },
    "tags": []
   },
   "source": [
    "## Confusion Matrix \n",
    "Confusion Matrix gives the number of correct and incorrect classifications made by the classifier."
   ]
  },
  {
   "cell_type": "code",
   "execution_count": 41,
   "id": "1e86488d",
   "metadata": {
    "execution": {
     "iopub.execute_input": "2024-12-27T20:47:14.603602Z",
     "iopub.status.busy": "2024-12-27T20:47:14.603260Z",
     "iopub.status.idle": "2024-12-27T20:47:17.729822Z",
     "shell.execute_reply": "2024-12-27T20:47:17.728505Z"
    },
    "papermill": {
     "duration": 3.152681,
     "end_time": "2024-12-27T20:47:17.732045",
     "exception": false,
     "start_time": "2024-12-27T20:47:14.579364",
     "status": "completed"
    },
    "tags": []
   },
   "outputs": [
    {
     "data": {
      "image/png": "[encoded data removed]",
      "text/plain": [
       "<Figure size 1200x600 with 8 Axes>"
      ]
     },
     "metadata": {},
     "output_type": "display_data"
    }
   ],
   "source": [
    "fig, axes = plt.subplots(2,2,figsize=(12,6))\n",
    "log_pred = cross_val_predict(LogisticRegression(), X,y, cv=10)\n",
    "sns.heatmap(confusion_matrix(y, log_pred), annot=True, ax=axes[0,0],fmt='2.0f')\n",
    "axes[0,0].set_title(\"Matrix for Logistic Regression\")\n",
    "\n",
    "dt_pred = cross_val_predict(DecisionTreeClassifier(), X,y, cv=10)\n",
    "sns.heatmap(confusion_matrix(y, dt_pred), annot=True, ax=axes[0,1],fmt='2.0f')\n",
    "axes[0,1].set_title(\"Matrix for Decision Tree\")\n",
    "\n",
    "knn_pred = cross_val_predict(KNeighborsClassifier(), X,y, cv=10)\n",
    "sns.heatmap(confusion_matrix(y, knn_pred), annot=True, ax=axes[1,0],fmt='2.0f')\n",
    "axes[1,0].set_title(\"Matrix for KNN\")\n",
    "\n",
    "rf_pred = cross_val_predict(RandomForestClassifier(), X,y, cv=10)\n",
    "sns.heatmap(confusion_matrix(y, rf_pred), annot=True, ax=axes[1,1],fmt='2.0f')\n",
    "axes[1,1].set_title(\"Matrix for Random Forest\")\n",
    "\n",
    "plt.subplots_adjust(hspace=.2,wspace=.2)\n",
    "plt.show()"
   ]
  },
  {
   "cell_type": "markdown",
   "id": "7057d53c",
   "metadata": {
    "papermill": {
     "duration": 0.022555,
     "end_time": "2024-12-27T20:47:17.778924",
     "exception": false,
     "start_time": "2024-12-27T20:47:17.756369",
     "status": "completed"
    },
    "tags": []
   },
   "source": [
    "# Hyper Tunning Parameters"
   ]
  },
  {
   "cell_type": "code",
   "execution_count": 42,
   "id": "f2ad23ec",
   "metadata": {
    "execution": {
     "iopub.execute_input": "2024-12-27T20:47:17.825602Z",
     "iopub.status.busy": "2024-12-27T20:47:17.825237Z",
     "iopub.status.idle": "2024-12-27T20:49:11.385429Z",
     "shell.execute_reply": "2024-12-27T20:49:11.384078Z"
    },
    "papermill": {
     "duration": 113.609227,
     "end_time": "2024-12-27T20:49:11.410742",
     "exception": false,
     "start_time": "2024-12-27T20:47:17.801515",
     "status": "completed"
    },
    "tags": []
   },
   "outputs": [
    {
     "name": "stdout",
     "output_type": "stream",
     "text": [
      "Fitting 5 folds for each of 27 candidates, totalling 135 fits\n",
      "Tuned Random Forest Parameters: {'max_depth': 5, 'n_estimators': 200}\n",
      "Tuned Random Forest Best Accuracy Score: 0.8356347877474637\n"
     ]
    }
   ],
   "source": [
    "from sklearn.model_selection import GridSearchCV\n",
    "\n",
    "n_estimators = range(100,1000,100)\n",
    "\n",
    "params = {'n_estimators':n_estimators,\n",
    "          'max_depth': [None, 5, 10],}\n",
    "\n",
    "gd_rf = GridSearchCV(rf, params, verbose=True)\n",
    "gd_rf.fit(X_train, y_train)\n",
    "\n",
    "print(\"Tuned Random Forest Parameters: {}\".format(gd_rf.best_params_))\n",
    "print(\"Tuned Random Forest Best Accuracy Score: {}\".format(gd_rf.best_score_))"
   ]
  },
  {
   "cell_type": "markdown",
   "id": "021c554d",
   "metadata": {
    "papermill": {
     "duration": 0.024538,
     "end_time": "2024-12-27T20:49:11.458608",
     "exception": false,
     "start_time": "2024-12-27T20:49:11.434070",
     "status": "completed"
    },
    "tags": []
   },
   "source": [
    "# Ensembling"
   ]
  },
  {
   "cell_type": "markdown",
   "id": "e4966126",
   "metadata": {
    "papermill": {
     "duration": 0.024064,
     "end_time": "2024-12-27T20:49:11.506311",
     "exception": false,
     "start_time": "2024-12-27T20:49:11.482247",
     "status": "completed"
    },
    "tags": []
   },
   "source": [
    "Ensembling is a good way to increase the accuracy or performance of a model. In simple words, it is the combination of various simple models to create a single powerful model.\n",
    "\n",
    "Lets say we want to buy a phone and ask many people about it based on various parameters. So then we can make a strong judgement about a single product after analysing all different parameters. This is Ensembling, which improves the stability of the model. Ensembling can be done in ways like:\n",
    "\n",
    "1)Voting Classifier\n",
    "\n",
    "2)Bagging\n",
    "\n",
    "3)Boosting"
   ]
  },
  {
   "cell_type": "markdown",
   "id": "e130402f",
   "metadata": {
    "papermill": {
     "duration": 0.022623,
     "end_time": "2024-12-27T20:49:11.552314",
     "exception": false,
     "start_time": "2024-12-27T20:49:11.529691",
     "status": "completed"
    },
    "tags": []
   },
   "source": [
    "## Voting Classifier\n",
    "\n",
    "It is the simplest way of combining predictions from many different simple machine learning models. It gives an average prediction result based on the prediction of all the submodels. The submodels or the basemodels are all of diiferent type"
   ]
  },
  {
   "cell_type": "code",
   "execution_count": 43,
   "id": "0c1a544b",
   "metadata": {
    "execution": {
     "iopub.execute_input": "2024-12-27T20:49:11.602463Z",
     "iopub.status.busy": "2024-12-27T20:49:11.602074Z",
     "iopub.status.idle": "2024-12-27T20:49:14.088289Z",
     "shell.execute_reply": "2024-12-27T20:49:14.087104Z"
    },
    "papermill": {
     "duration": 2.513878,
     "end_time": "2024-12-27T20:49:14.090338",
     "exception": false,
     "start_time": "2024-12-27T20:49:11.576460",
     "status": "completed"
    },
    "tags": []
   },
   "outputs": [
    {
     "name": "stdout",
     "output_type": "stream",
     "text": [
      "Logistic Regression: 78.77094972067039\n",
      "KNN: 78.77094972067039\n",
      "Decision Tree: 77.09497206703911\n",
      "Random Forest: 77.6536312849162\n",
      "====================================================================================================\n",
      "The accuracy for ensembled model is: 0.770949720670391\n",
      "The cross validated score is 0.8092759051186018\n"
     ]
    }
   ],
   "source": [
    "from sklearn.ensemble import VotingClassifier\n",
    "\n",
    "classifiers = [('Logistic Regression',log_reg),('KNN',knn),('Decision Tree',dt),('Random Forest', rf)]\n",
    "\n",
    "\n",
    "for name, model in  classifiers:\n",
    "    model.fit(X_train, y_train)\n",
    "    y_pred = model.predict(X_test)\n",
    "    print(f\"{name}: {accuracy_score(y_test, y_pred)*100}\")\n",
    "\n",
    "print(\"=\"*100)\n",
    "\n",
    "vc = VotingClassifier(classifiers, voting='soft')\n",
    "\n",
    "vc.fit(X_train, y_train)\n",
    "\n",
    "print('The accuracy for ensembled model is:',vc.score(X_test,y_test))\n",
    "cross=cross_val_score(vc ,X,y, cv = 10,scoring = \"accuracy\")\n",
    "print('The cross validated score is',cross.mean())"
   ]
  },
  {
   "cell_type": "markdown",
   "id": "ab464a4e",
   "metadata": {
    "papermill": {
     "duration": 0.08367,
     "end_time": "2024-12-27T20:49:14.200452",
     "exception": false,
     "start_time": "2024-12-27T20:49:14.116782",
     "status": "completed"
    },
    "tags": []
   },
   "source": [
    "## Bagging\n",
    "\n",
    "Bagging is a general ensemble method. It works by applying similar classifiers on small partitions of the dataset and then taking the average of all the predictions. Due to the averaging,there is reduction in variance. Unlike Voting Classifier, Bagging makes use of similar classifiers."
   ]
  },
  {
   "cell_type": "code",
   "execution_count": 44,
   "id": "747540a7",
   "metadata": {
    "execution": {
     "iopub.execute_input": "2024-12-27T20:49:14.248633Z",
     "iopub.status.busy": "2024-12-27T20:49:14.248307Z",
     "iopub.status.idle": "2024-12-27T20:49:16.921243Z",
     "shell.execute_reply": "2024-12-27T20:49:16.919985Z"
    },
    "papermill": {
     "duration": 2.698891,
     "end_time": "2024-12-27T20:49:16.923141",
     "exception": false,
     "start_time": "2024-12-27T20:49:14.224250",
     "status": "completed"
    },
    "tags": []
   },
   "outputs": [
    {
     "name": "stdout",
     "output_type": "stream",
     "text": [
      "The accuracy for bagged Decision Tree is: 0.7821229050279329\n",
      "The cross validated score for bagged Decision Tree is: 0.8058926342072409\n"
     ]
    }
   ],
   "source": [
    "from sklearn.ensemble import BaggingClassifier\n",
    "\n",
    "bag = BaggingClassifier(dt, random_state=47, n_estimators=100)\n",
    "bag.fit(X_train, y_train)\n",
    "y_pred = bag.predict(X_test)\n",
    "\n",
    "print('The accuracy for bagged Decision Tree is:',accuracy_score(y_pred, y_test))\n",
    "result=cross_val_score(bag,X,y,cv=10,scoring='accuracy')\n",
    "print('The cross validated score for bagged Decision Tree is:',result.mean())"
   ]
  },
  {
   "cell_type": "markdown",
   "id": "98a37f14",
   "metadata": {
    "papermill": {
     "duration": 0.023992,
     "end_time": "2024-12-27T20:49:16.971581",
     "exception": false,
     "start_time": "2024-12-27T20:49:16.947589",
     "status": "completed"
    },
    "tags": []
   },
   "source": [
    "## Boosting\n",
    "\n",
    "Boosting is an ensembling technique which uses sequential learning of classifiers. It is a step by step enhancement of a weak model.Boosting works as follows:\n",
    "\n",
    "A model is first trained on the complete dataset. Now the model will get some instances right while some wrong. Now in the next iteration, the learner will focus more on the wrongly predicted instances or give more weight to it. Thus it will try to predict the wrong instance correctly. Now this iterative process continous, and new classifers are added to the model until the limit is reached on the accuracy."
   ]
  },
  {
   "cell_type": "code",
   "execution_count": 45,
   "id": "282160b7",
   "metadata": {
    "execution": {
     "iopub.execute_input": "2024-12-27T20:49:17.021953Z",
     "iopub.status.busy": "2024-12-27T20:49:17.021528Z",
     "iopub.status.idle": "2024-12-27T20:49:20.776338Z",
     "shell.execute_reply": "2024-12-27T20:49:20.775030Z"
    },
    "papermill": {
     "duration": 3.782275,
     "end_time": "2024-12-27T20:49:20.778082",
     "exception": false,
     "start_time": "2024-12-27T20:49:16.995807",
     "status": "completed"
    },
    "tags": []
   },
   "outputs": [
    {
     "name": "stdout",
     "output_type": "stream",
     "text": [
      "The cross validated score for AdaBoost is: 0.8260424469413234\n"
     ]
    }
   ],
   "source": [
    "from sklearn.ensemble import AdaBoostClassifier\n",
    "\n",
    "ada = AdaBoostClassifier(n_estimators=200,random_state=0,learning_rate=0.1)\n",
    "\n",
    "result = cross_val_score(ada, X, y, cv=10, scoring='accuracy')\n",
    "\n",
    "print('The cross validated score for AdaBoost is:',result.mean())"
   ]
  },
  {
   "cell_type": "markdown",
   "id": "aecef18b",
   "metadata": {
    "papermill": {
     "duration": 0.022861,
     "end_time": "2024-12-27T20:49:20.824415",
     "exception": false,
     "start_time": "2024-12-27T20:49:20.801554",
     "status": "completed"
    },
    "tags": []
   },
   "source": []
  },
  {
   "cell_type": "code",
   "execution_count": 46,
   "id": "29f8af7b",
   "metadata": {
    "execution": {
     "iopub.execute_input": "2024-12-27T20:49:20.872806Z",
     "iopub.status.busy": "2024-12-27T20:49:20.872439Z",
     "iopub.status.idle": "2024-12-27T20:59:23.475812Z",
     "shell.execute_reply": "2024-12-27T20:59:23.474435Z"
    },
    "papermill": {
     "duration": 602.653289,
     "end_time": "2024-12-27T20:59:23.500978",
     "exception": false,
     "start_time": "2024-12-27T20:49:20.847689",
     "status": "completed"
    },
    "tags": []
   },
   "outputs": [
    {
     "name": "stdout",
     "output_type": "stream",
     "text": [
      "Fitting 5 folds for each of 120 candidates, totalling 600 fits\n",
      "0.830500282468144\n",
      "AdaBoostClassifier(learning_rate=0.05, n_estimators=200)\n"
     ]
    }
   ],
   "source": [
    "n_estimators=list(range(100,1100,100))\n",
    "\n",
    "learn_rate=[0.05,0.1,0.2,0.3,0.25,0.4,0.5,0.6,0.7,0.8,0.9,1]\n",
    "\n",
    "hyper={'n_estimators':n_estimators,'learning_rate':learn_rate}\n",
    "\n",
    "gd = GridSearchCV(estimator=AdaBoostClassifier(),param_grid=hyper,verbose=True)\n",
    "\n",
    "gd.fit(X,y)\n",
    "\n",
    "print(gd.best_score_)\n",
    "print(gd.best_estimator_)"
   ]
  },
  {
   "cell_type": "code",
   "execution_count": 47,
   "id": "d9a75657",
   "metadata": {
    "execution": {
     "iopub.execute_input": "2024-12-27T20:59:23.549396Z",
     "iopub.status.busy": "2024-12-27T20:59:23.549043Z",
     "iopub.status.idle": "2024-12-27T20:59:31.072352Z",
     "shell.execute_reply": "2024-12-27T20:59:31.071203Z"
    },
    "papermill": {
     "duration": 7.549728,
     "end_time": "2024-12-27T20:59:31.074202",
     "exception": false,
     "start_time": "2024-12-27T20:59:23.524474",
     "status": "completed"
    },
    "tags": []
   },
   "outputs": [
    {
     "data": {
      "image/png": "[encoded data removed]",
      "text/plain": [
       "<Figure size 1200x600 with 4 Axes>"
      ]
     },
     "metadata": {},
     "output_type": "display_data"
    }
   ],
   "source": [
    "# tunned Ada boost classifier \n",
    "ada_tuned = AdaBoostClassifier(n_estimators=200, learning_rate=0.05, random_state=47)\n",
    "ada_result = cross_val_predict(ada_tuned, X,y, cv=10)\n",
    "# tunned Random Forest \n",
    "rf_tuned = RandomForestClassifier(n_estimators=200, max_depth=5)\n",
    "rf_result = cross_val_predict(rf_tuned, X,y, cv=10)\n",
    "\n",
    "fig , axes = plt.subplots(1,2,figsize=(12,6))\n",
    "sns.heatmap(confusion_matrix(y, rf_result), annot=True, fmt='2.0f', ax=axes[0])\n",
    "axes[0].set_title(\"Random Forest Tunned\")\n",
    "sns.heatmap(confusion_matrix(y, ada_result), annot=True, fmt='2.0f', ax=axes[1])\n",
    "axes[1].set_title(\"AdaBoost Tunned\")\n",
    "\n",
    "plt.show()"
   ]
  },
  {
   "cell_type": "markdown",
   "id": "a46330e2",
   "metadata": {
    "papermill": {
     "duration": 0.024835,
     "end_time": "2024-12-27T20:59:31.124219",
     "exception": false,
     "start_time": "2024-12-27T20:59:31.099384",
     "status": "completed"
    },
    "tags": []
   },
   "source": [
    "### Important Features"
   ]
  },
  {
   "cell_type": "code",
   "execution_count": 48,
   "id": "fc383f9d",
   "metadata": {
    "execution": {
     "iopub.execute_input": "2024-12-27T20:59:31.178219Z",
     "iopub.status.busy": "2024-12-27T20:59:31.177843Z",
     "iopub.status.idle": "2024-12-27T20:59:31.876383Z",
     "shell.execute_reply": "2024-12-27T20:59:31.875280Z"
    },
    "papermill": {
     "duration": 0.727038,
     "end_time": "2024-12-27T20:59:31.878334",
     "exception": false,
     "start_time": "2024-12-27T20:59:31.151296",
     "status": "completed"
    },
    "tags": []
   },
   "outputs": [],
   "source": [
    "rf_tuned.fit(X_train, y_train)\n",
    "rf_importances = pd.Series(rf_tuned.feature_importances_, X_train.columns).sort_values(ascending=True)\n",
    "\n",
    "ada_tuned.fit(X_train, y_train)\n",
    "ada_importances = pd.Series(ada_tuned.feature_importances_, X_train.columns).sort_values(ascending=True)\n"
   ]
  },
  {
   "cell_type": "code",
   "execution_count": 49,
   "id": "b86daab1",
   "metadata": {
    "execution": {
     "iopub.execute_input": "2024-12-27T20:59:31.932818Z",
     "iopub.status.busy": "2024-12-27T20:59:31.932393Z",
     "iopub.status.idle": "2024-12-27T20:59:32.374133Z",
     "shell.execute_reply": "2024-12-27T20:59:32.373009Z"
    },
    "papermill": {
     "duration": 0.471806,
     "end_time": "2024-12-27T20:59:32.376008",
     "exception": false,
     "start_time": "2024-12-27T20:59:31.904202",
     "status": "completed"
    },
    "tags": []
   },
   "outputs": [
    {
     "data": {
      "image/png": "[encoded data removed]",
      "text/plain": [
       "<Figure size 1200x600 with 2 Axes>"
      ]
     },
     "metadata": {},
     "output_type": "display_data"
    }
   ],
   "source": [
    "fig, axes= plt.subplots(1,2, figsize=(12,6))\n",
    "# Plot Random Forest feature importances\n",
    "axes[0].barh(range(len(rf_importances)), rf_importances, align='center')\n",
    "axes[0].set_yticks(range(len(rf_importances)))\n",
    "axes[0].set_yticklabels(X.columns)  # Assuming X is a DataFrame\n",
    "axes[0].set_title(\"Random Forest Feature Importances\")\n",
    "\n",
    "# Plot AdaBoost feature importances\n",
    "axes[1].barh(range(len(ada_importances)), ada_importances, align='center')\n",
    "axes[1].set_yticks(range(len(ada_importances)))\n",
    "axes[1].set_yticklabels(X.columns)  # Assuming X is a DataFrame\n",
    "axes[1].set_title(\"AdaBoost Feature Importances\")\n",
    "\n",
    "plt.tight_layout()\n",
    "plt.show()"
   ]
  },
  {
   "cell_type": "code",
   "execution_count": 50,
   "id": "19807e9e",
   "metadata": {
    "execution": {
     "iopub.execute_input": "2024-12-27T20:59:32.428406Z",
     "iopub.status.busy": "2024-12-27T20:59:32.428061Z",
     "iopub.status.idle": "2024-12-27T20:59:32.468233Z",
     "shell.execute_reply": "2024-12-27T20:59:32.466575Z"
    },
    "papermill": {
     "duration": 0.068832,
     "end_time": "2024-12-27T20:59:32.470471",
     "exception": false,
     "start_time": "2024-12-27T20:59:32.401639",
     "status": "completed"
    },
    "tags": []
   },
   "outputs": [
    {
     "name": "stdout",
     "output_type": "stream",
     "text": [
      "Submission was successfully saved!\n"
     ]
    }
   ],
   "source": [
    "predictions = ada_tuned.predict(X_test)\n",
    "\n",
    "\n",
    "aligned_test_data = test_data.iloc[:len(predictions)]\n",
    "output = pd.DataFrame({'PassengerId':  aligned_test_data.PassengerId, 'Survived': predictions})\n",
    "output.to_csv('submission.csv', index=False)\n",
    "print(\"Submission was successfully saved!\")"
   ]
  },
  {
   "cell_type": "code",
   "execution_count": 51,
   "id": "b59deefe",
   "metadata": {
    "execution": {
     "iopub.execute_input": "2024-12-27T20:59:32.522739Z",
     "iopub.status.busy": "2024-12-27T20:59:32.522341Z",
     "iopub.status.idle": "2024-12-27T20:59:32.530406Z",
     "shell.execute_reply": "2024-12-27T20:59:32.529211Z"
    },
    "papermill": {
     "duration": 0.035907,
     "end_time": "2024-12-27T20:59:32.532363",
     "exception": false,
     "start_time": "2024-12-27T20:59:32.496456",
     "status": "completed"
    },
    "tags": []
   },
   "outputs": [
    {
     "data": {
      "text/plain": [
       "Survived\n",
       "0    118\n",
       "1     61\n",
       "Name: count, dtype: int64"
      ]
     },
     "execution_count": 51,
     "metadata": {},
     "output_type": "execute_result"
    }
   ],
   "source": [
    "output.value_counts('Survived')"
   ]
  },
  {
   "cell_type": "code",
   "execution_count": null,
   "id": "c9baa2bc",
   "metadata": {
    "papermill": {
     "duration": 0.024881,
     "end_time": "2024-12-27T20:59:32.582401",
     "exception": false,
     "start_time": "2024-12-27T20:59:32.557520",
     "status": "completed"
    },
    "tags": []
   },
   "outputs": [],
   "source": []
  }
 ],
 "metadata": {
  "kaggle": {
   "accelerator": "none",
   "dataSources": [
    {
     "databundleVersionId": 26502,
     "sourceId": 3136,
     "sourceType": "competition"
    }
   ],
   "dockerImageVersionId": 30822,
   "isGpuEnabled": false,
   "isInternetEnabled": true,
   "language": "python",
   "sourceType": "notebook"
  },
  "kernelspec": {
   "display_name": "Python 3",
   "language": "python",
   "name": "python3"
  },
  "language_info": {
   "codemirror_mode": {
    "name": "ipython",
    "version": 3
   },
   "file_extension": ".py",
   "mimetype": "text/x-python",
   "name": "python",
   "nbconvert_exporter": "python",
   "pygments_lexer": "ipython3",
   "version": "3.10.12"
  },
  "papermill": {
   "default_parameters": {},
   "duration": 752.878215,
   "end_time": "2024-12-27T20:59:33.434020",
   "environment_variables": {},
   "exception": null,
   "input_path": "__notebook__.ipynb",
   "output_path": "__notebook__.ipynb",
   "parameters": {},
   "start_time": "2024-12-27T20:47:00.555805",
   "version": "2.6.0"
  }
 },
 "nbformat": 4,
 "nbformat_minor": 5
}
